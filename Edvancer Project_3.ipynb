{
 "cells": [
  {
   "cell_type": "code",
   "execution_count": 1,
   "metadata": {},
   "outputs": [
    {
     "name": "stderr",
     "output_type": "stream",
     "text": [
      "C:\\Users\\ADMIN\\Anaconda3\\lib\\site-packages\\sklearn\\cross_validation.py:41: DeprecationWarning: This module was deprecated in version 0.18 in favor of the model_selection module into which all the refactored classes and functions are moved. Also note that the interface of the new CV iterators are different from that of this module. This module will be removed in 0.20.\n",
      "  \"This module will be removed in 0.20.\", DeprecationWarning)\n"
     ]
    }
   ],
   "source": [
    "import os\n",
    "import pandas as pd\n",
    "import numpy as np\n",
    "import math\n",
    "from sklearn.cross_validation import train_test_split\n",
    "from sklearn.cross_validation import KFold\n",
    "from sklearn.linear_model import LinearRegression, Lasso, Ridge\n",
    "from sklearn.metrics import mean_absolute_error\n",
    "from sklearn.metrics import mean_squared_error"
   ]
  },
  {
   "cell_type": "code",
   "execution_count": 2,
   "metadata": {},
   "outputs": [],
   "source": [
    "os.chdir('C://Users//ADMIN//Downloads//R//Datasets')"
   ]
  },
  {
   "cell_type": "code",
   "execution_count": 3,
   "metadata": {},
   "outputs": [],
   "source": [
    "cf_train=pd.read_csv('counterfeit_train.csv')\n",
    "cf_test=pd.read_csv('counterfeit_test.csv')"
   ]
  },
  {
   "cell_type": "code",
   "execution_count": 4,
   "metadata": {},
   "outputs": [
    {
     "data": {
      "text/plain": [
       "(6818, 12)"
      ]
     },
     "execution_count": 4,
     "metadata": {},
     "output_type": "execute_result"
    }
   ],
   "source": [
    "cf_train.shape"
   ]
  },
  {
   "cell_type": "code",
   "execution_count": 5,
   "metadata": {},
   "outputs": [
    {
     "data": {
      "text/plain": [
       "(1705, 11)"
      ]
     },
     "execution_count": 5,
     "metadata": {},
     "output_type": "execute_result"
    }
   ],
   "source": [
    "cf_test.shape"
   ]
  },
  {
   "cell_type": "code",
   "execution_count": 6,
   "metadata": {},
   "outputs": [
    {
     "data": {
      "text/html": [
       "<div>\n",
       "<style scoped>\n",
       "    .dataframe tbody tr th:only-of-type {\n",
       "        vertical-align: middle;\n",
       "    }\n",
       "\n",
       "    .dataframe tbody tr th {\n",
       "        vertical-align: top;\n",
       "    }\n",
       "\n",
       "    .dataframe thead th {\n",
       "        text-align: right;\n",
       "    }\n",
       "</style>\n",
       "<table border=\"1\" class=\"dataframe\">\n",
       "  <thead>\n",
       "    <tr style=\"text-align: right;\">\n",
       "      <th></th>\n",
       "      <th>Medicine_ID</th>\n",
       "      <th>Counterfeit_Weight</th>\n",
       "      <th>DistArea_ID</th>\n",
       "      <th>Active_Since</th>\n",
       "      <th>Medicine_MRP</th>\n",
       "      <th>Medicine_Type</th>\n",
       "      <th>SidEffect_Level</th>\n",
       "      <th>Availability_rating</th>\n",
       "      <th>Area_Type</th>\n",
       "      <th>Area_City_Type</th>\n",
       "      <th>Area_dist_level</th>\n",
       "      <th>Counterfeit_Sales</th>\n",
       "    </tr>\n",
       "  </thead>\n",
       "  <tbody>\n",
       "    <tr>\n",
       "      <th>0</th>\n",
       "      <td>RRA15</td>\n",
       "      <td>13.100</td>\n",
       "      <td>Area046</td>\n",
       "      <td>1995</td>\n",
       "      <td>160.2366</td>\n",
       "      <td>Antimalarial</td>\n",
       "      <td>critical</td>\n",
       "      <td>0.070422</td>\n",
       "      <td>DownTown</td>\n",
       "      <td>Tier 1</td>\n",
       "      <td>Small</td>\n",
       "      <td>1775.5026</td>\n",
       "    </tr>\n",
       "    <tr>\n",
       "      <th>1</th>\n",
       "      <td>YVV26</td>\n",
       "      <td>NaN</td>\n",
       "      <td>Area027</td>\n",
       "      <td>1983</td>\n",
       "      <td>110.4384</td>\n",
       "      <td>Mstablizers</td>\n",
       "      <td>mild</td>\n",
       "      <td>0.013000</td>\n",
       "      <td>CityLimits</td>\n",
       "      <td>Tier 3</td>\n",
       "      <td>Medium</td>\n",
       "      <td>3069.1520</td>\n",
       "    </tr>\n",
       "    <tr>\n",
       "      <th>2</th>\n",
       "      <td>LJC15</td>\n",
       "      <td>9.025</td>\n",
       "      <td>Area046</td>\n",
       "      <td>1995</td>\n",
       "      <td>259.4092</td>\n",
       "      <td>Cardiac</td>\n",
       "      <td>mild</td>\n",
       "      <td>0.060783</td>\n",
       "      <td>DownTown</td>\n",
       "      <td>Tier 1</td>\n",
       "      <td>Small</td>\n",
       "      <td>2603.0920</td>\n",
       "    </tr>\n",
       "    <tr>\n",
       "      <th>3</th>\n",
       "      <td>GWC40</td>\n",
       "      <td>11.800</td>\n",
       "      <td>Area046</td>\n",
       "      <td>1995</td>\n",
       "      <td>99.9830</td>\n",
       "      <td>OralContraceptives</td>\n",
       "      <td>mild</td>\n",
       "      <td>0.065555</td>\n",
       "      <td>DownTown</td>\n",
       "      <td>Tier 1</td>\n",
       "      <td>Small</td>\n",
       "      <td>1101.7130</td>\n",
       "    </tr>\n",
       "    <tr>\n",
       "      <th>4</th>\n",
       "      <td>QMN13</td>\n",
       "      <td>NaN</td>\n",
       "      <td>Area019</td>\n",
       "      <td>1983</td>\n",
       "      <td>56.4402</td>\n",
       "      <td>Hreplacements</td>\n",
       "      <td>critical</td>\n",
       "      <td>0.248859</td>\n",
       "      <td>MidTownResidential</td>\n",
       "      <td>Tier 1</td>\n",
       "      <td>Small</td>\n",
       "      <td>158.9402</td>\n",
       "    </tr>\n",
       "  </tbody>\n",
       "</table>\n",
       "</div>"
      ],
      "text/plain": [
       "  Medicine_ID  Counterfeit_Weight DistArea_ID  Active_Since  Medicine_MRP  \\\n",
       "0       RRA15              13.100     Area046          1995      160.2366   \n",
       "1       YVV26                 NaN     Area027          1983      110.4384   \n",
       "2       LJC15               9.025     Area046          1995      259.4092   \n",
       "3       GWC40              11.800     Area046          1995       99.9830   \n",
       "4       QMN13                 NaN     Area019          1983       56.4402   \n",
       "\n",
       "        Medicine_Type SidEffect_Level  Availability_rating  \\\n",
       "0        Antimalarial        critical             0.070422   \n",
       "1         Mstablizers            mild             0.013000   \n",
       "2             Cardiac            mild             0.060783   \n",
       "3  OralContraceptives            mild             0.065555   \n",
       "4       Hreplacements        critical             0.248859   \n",
       "\n",
       "            Area_Type Area_City_Type Area_dist_level  Counterfeit_Sales  \n",
       "0            DownTown         Tier 1           Small          1775.5026  \n",
       "1          CityLimits         Tier 3          Medium          3069.1520  \n",
       "2            DownTown         Tier 1           Small          2603.0920  \n",
       "3            DownTown         Tier 1           Small          1101.7130  \n",
       "4  MidTownResidential         Tier 1           Small           158.9402  "
      ]
     },
     "execution_count": 6,
     "metadata": {},
     "output_type": "execute_result"
    }
   ],
   "source": [
    "cf_train.head(5)"
   ]
  },
  {
   "cell_type": "code",
   "execution_count": 7,
   "metadata": {},
   "outputs": [
    {
     "data": {
      "text/html": [
       "<div>\n",
       "<style scoped>\n",
       "    .dataframe tbody tr th:only-of-type {\n",
       "        vertical-align: middle;\n",
       "    }\n",
       "\n",
       "    .dataframe tbody tr th {\n",
       "        vertical-align: top;\n",
       "    }\n",
       "\n",
       "    .dataframe thead th {\n",
       "        text-align: right;\n",
       "    }\n",
       "</style>\n",
       "<table border=\"1\" class=\"dataframe\">\n",
       "  <thead>\n",
       "    <tr style=\"text-align: right;\">\n",
       "      <th></th>\n",
       "      <th>Medicine_ID</th>\n",
       "      <th>Counterfeit_Weight</th>\n",
       "      <th>DistArea_ID</th>\n",
       "      <th>Active_Since</th>\n",
       "      <th>Medicine_MRP</th>\n",
       "      <th>Medicine_Type</th>\n",
       "      <th>SidEffect_Level</th>\n",
       "      <th>Availability_rating</th>\n",
       "      <th>Area_Type</th>\n",
       "      <th>Area_City_Type</th>\n",
       "      <th>Area_dist_level</th>\n",
       "    </tr>\n",
       "  </thead>\n",
       "  <tbody>\n",
       "    <tr>\n",
       "      <th>0</th>\n",
       "      <td>HLZ81</td>\n",
       "      <td>NaN</td>\n",
       "      <td>Area027</td>\n",
       "      <td>1983</td>\n",
       "      <td>85.5328</td>\n",
       "      <td>Antibiotics</td>\n",
       "      <td>mild</td>\n",
       "      <td>0.112747</td>\n",
       "      <td>CityLimits</td>\n",
       "      <td>Tier 3</td>\n",
       "      <td>Medium</td>\n",
       "    </tr>\n",
       "    <tr>\n",
       "      <th>1</th>\n",
       "      <td>ECE94</td>\n",
       "      <td>13.45</td>\n",
       "      <td>Area045</td>\n",
       "      <td>2000</td>\n",
       "      <td>257.1460</td>\n",
       "      <td>OralContraceptives</td>\n",
       "      <td>mild</td>\n",
       "      <td>0.144446</td>\n",
       "      <td>DownTown</td>\n",
       "      <td>Tier 2</td>\n",
       "      <td>Unknown</td>\n",
       "    </tr>\n",
       "    <tr>\n",
       "      <th>2</th>\n",
       "      <td>SAD14</td>\n",
       "      <td>7.10</td>\n",
       "      <td>Area045</td>\n",
       "      <td>2000</td>\n",
       "      <td>98.1172</td>\n",
       "      <td>Antipyretics</td>\n",
       "      <td>mild</td>\n",
       "      <td>0.144221</td>\n",
       "      <td>DownTown</td>\n",
       "      <td>Tier 2</td>\n",
       "      <td>Unknown</td>\n",
       "    </tr>\n",
       "    <tr>\n",
       "      <th>3</th>\n",
       "      <td>EQV63</td>\n",
       "      <td>18.30</td>\n",
       "      <td>Area010</td>\n",
       "      <td>1996</td>\n",
       "      <td>135.3730</td>\n",
       "      <td>Tranquilizers</td>\n",
       "      <td>mild</td>\n",
       "      <td>0.100388</td>\n",
       "      <td>MidTownResidential</td>\n",
       "      <td>Tier 3</td>\n",
       "      <td>Unknown</td>\n",
       "    </tr>\n",
       "    <tr>\n",
       "      <th>4</th>\n",
       "      <td>AIR10</td>\n",
       "      <td>NaN</td>\n",
       "      <td>Area019</td>\n",
       "      <td>1983</td>\n",
       "      <td>112.8016</td>\n",
       "      <td>OralContraceptives</td>\n",
       "      <td>mild</td>\n",
       "      <td>0.022585</td>\n",
       "      <td>MidTownResidential</td>\n",
       "      <td>Tier 1</td>\n",
       "      <td>Small</td>\n",
       "    </tr>\n",
       "  </tbody>\n",
       "</table>\n",
       "</div>"
      ],
      "text/plain": [
       "  Medicine_ID  Counterfeit_Weight DistArea_ID  Active_Since  Medicine_MRP  \\\n",
       "0       HLZ81                 NaN     Area027          1983       85.5328   \n",
       "1       ECE94               13.45     Area045          2000      257.1460   \n",
       "2       SAD14                7.10     Area045          2000       98.1172   \n",
       "3       EQV63               18.30     Area010          1996      135.3730   \n",
       "4       AIR10                 NaN     Area019          1983      112.8016   \n",
       "\n",
       "        Medicine_Type SidEffect_Level  Availability_rating  \\\n",
       "0         Antibiotics            mild             0.112747   \n",
       "1  OralContraceptives            mild             0.144446   \n",
       "2        Antipyretics            mild             0.144221   \n",
       "3       Tranquilizers            mild             0.100388   \n",
       "4  OralContraceptives            mild             0.022585   \n",
       "\n",
       "            Area_Type Area_City_Type Area_dist_level  \n",
       "0          CityLimits         Tier 3          Medium  \n",
       "1            DownTown         Tier 2         Unknown  \n",
       "2            DownTown         Tier 2         Unknown  \n",
       "3  MidTownResidential         Tier 3         Unknown  \n",
       "4  MidTownResidential         Tier 1           Small  "
      ]
     },
     "execution_count": 7,
     "metadata": {},
     "output_type": "execute_result"
    }
   ],
   "source": [
    "cf_test.head(5)"
   ]
  },
  {
   "cell_type": "code",
   "execution_count": 8,
   "metadata": {},
   "outputs": [],
   "source": [
    "cf_test['Counterfeit_Sales']=np.nan\n",
    "cf_train['data']='train'\n",
    "cf_test['data']='test'\n",
    "cf_test=cf_test[cf_train.columns]\n",
    "cf_all=pd.concat([cf_train,cf_test],axis=0,ignore_index=True)"
   ]
  },
  {
   "cell_type": "code",
   "execution_count": 9,
   "metadata": {},
   "outputs": [
    {
     "data": {
      "text/html": [
       "<div>\n",
       "<style scoped>\n",
       "    .dataframe tbody tr th:only-of-type {\n",
       "        vertical-align: middle;\n",
       "    }\n",
       "\n",
       "    .dataframe tbody tr th {\n",
       "        vertical-align: top;\n",
       "    }\n",
       "\n",
       "    .dataframe thead th {\n",
       "        text-align: right;\n",
       "    }\n",
       "</style>\n",
       "<table border=\"1\" class=\"dataframe\">\n",
       "  <thead>\n",
       "    <tr style=\"text-align: right;\">\n",
       "      <th></th>\n",
       "      <th>Medicine_ID</th>\n",
       "      <th>Counterfeit_Weight</th>\n",
       "      <th>DistArea_ID</th>\n",
       "      <th>Active_Since</th>\n",
       "      <th>Medicine_MRP</th>\n",
       "      <th>Medicine_Type</th>\n",
       "      <th>SidEffect_Level</th>\n",
       "      <th>Availability_rating</th>\n",
       "      <th>Area_Type</th>\n",
       "      <th>Area_City_Type</th>\n",
       "      <th>Area_dist_level</th>\n",
       "      <th>Counterfeit_Sales</th>\n",
       "      <th>data</th>\n",
       "    </tr>\n",
       "  </thead>\n",
       "  <tbody>\n",
       "    <tr>\n",
       "      <th>0</th>\n",
       "      <td>RRA15</td>\n",
       "      <td>13.100</td>\n",
       "      <td>Area046</td>\n",
       "      <td>1995</td>\n",
       "      <td>160.2366</td>\n",
       "      <td>Antimalarial</td>\n",
       "      <td>critical</td>\n",
       "      <td>0.070422</td>\n",
       "      <td>DownTown</td>\n",
       "      <td>Tier 1</td>\n",
       "      <td>Small</td>\n",
       "      <td>1775.5026</td>\n",
       "      <td>train</td>\n",
       "    </tr>\n",
       "    <tr>\n",
       "      <th>1</th>\n",
       "      <td>YVV26</td>\n",
       "      <td>NaN</td>\n",
       "      <td>Area027</td>\n",
       "      <td>1983</td>\n",
       "      <td>110.4384</td>\n",
       "      <td>Mstablizers</td>\n",
       "      <td>mild</td>\n",
       "      <td>0.013000</td>\n",
       "      <td>CityLimits</td>\n",
       "      <td>Tier 3</td>\n",
       "      <td>Medium</td>\n",
       "      <td>3069.1520</td>\n",
       "      <td>train</td>\n",
       "    </tr>\n",
       "    <tr>\n",
       "      <th>2</th>\n",
       "      <td>LJC15</td>\n",
       "      <td>9.025</td>\n",
       "      <td>Area046</td>\n",
       "      <td>1995</td>\n",
       "      <td>259.4092</td>\n",
       "      <td>Cardiac</td>\n",
       "      <td>mild</td>\n",
       "      <td>0.060783</td>\n",
       "      <td>DownTown</td>\n",
       "      <td>Tier 1</td>\n",
       "      <td>Small</td>\n",
       "      <td>2603.0920</td>\n",
       "      <td>train</td>\n",
       "    </tr>\n",
       "    <tr>\n",
       "      <th>3</th>\n",
       "      <td>GWC40</td>\n",
       "      <td>11.800</td>\n",
       "      <td>Area046</td>\n",
       "      <td>1995</td>\n",
       "      <td>99.9830</td>\n",
       "      <td>OralContraceptives</td>\n",
       "      <td>mild</td>\n",
       "      <td>0.065555</td>\n",
       "      <td>DownTown</td>\n",
       "      <td>Tier 1</td>\n",
       "      <td>Small</td>\n",
       "      <td>1101.7130</td>\n",
       "      <td>train</td>\n",
       "    </tr>\n",
       "    <tr>\n",
       "      <th>4</th>\n",
       "      <td>QMN13</td>\n",
       "      <td>NaN</td>\n",
       "      <td>Area019</td>\n",
       "      <td>1983</td>\n",
       "      <td>56.4402</td>\n",
       "      <td>Hreplacements</td>\n",
       "      <td>critical</td>\n",
       "      <td>0.248859</td>\n",
       "      <td>MidTownResidential</td>\n",
       "      <td>Tier 1</td>\n",
       "      <td>Small</td>\n",
       "      <td>158.9402</td>\n",
       "      <td>train</td>\n",
       "    </tr>\n",
       "  </tbody>\n",
       "</table>\n",
       "</div>"
      ],
      "text/plain": [
       "  Medicine_ID  Counterfeit_Weight DistArea_ID  Active_Since  Medicine_MRP  \\\n",
       "0       RRA15              13.100     Area046          1995      160.2366   \n",
       "1       YVV26                 NaN     Area027          1983      110.4384   \n",
       "2       LJC15               9.025     Area046          1995      259.4092   \n",
       "3       GWC40              11.800     Area046          1995       99.9830   \n",
       "4       QMN13                 NaN     Area019          1983       56.4402   \n",
       "\n",
       "        Medicine_Type SidEffect_Level  Availability_rating  \\\n",
       "0        Antimalarial        critical             0.070422   \n",
       "1         Mstablizers            mild             0.013000   \n",
       "2             Cardiac            mild             0.060783   \n",
       "3  OralContraceptives            mild             0.065555   \n",
       "4       Hreplacements        critical             0.248859   \n",
       "\n",
       "            Area_Type Area_City_Type Area_dist_level  Counterfeit_Sales   data  \n",
       "0            DownTown         Tier 1           Small          1775.5026  train  \n",
       "1          CityLimits         Tier 3          Medium          3069.1520  train  \n",
       "2            DownTown         Tier 1           Small          2603.0920  train  \n",
       "3            DownTown         Tier 1           Small          1101.7130  train  \n",
       "4  MidTownResidential         Tier 1           Small           158.9402  train  "
      ]
     },
     "execution_count": 9,
     "metadata": {},
     "output_type": "execute_result"
    }
   ],
   "source": [
    "cf_all.head(5)"
   ]
  },
  {
   "cell_type": "code",
   "execution_count": 10,
   "metadata": {},
   "outputs": [
    {
     "data": {
      "text/plain": [
       "(8523, 13)"
      ]
     },
     "execution_count": 10,
     "metadata": {},
     "output_type": "execute_result"
    }
   ],
   "source": [
    "cf_all.shape"
   ]
  },
  {
   "cell_type": "code",
   "execution_count": 11,
   "metadata": {},
   "outputs": [
    {
     "data": {
      "text/plain": [
       "Medicine_ID             object\n",
       "Counterfeit_Weight     float64\n",
       "DistArea_ID             object\n",
       "Active_Since             int64\n",
       "Medicine_MRP           float64\n",
       "Medicine_Type           object\n",
       "SidEffect_Level         object\n",
       "Availability_rating    float64\n",
       "Area_Type               object\n",
       "Area_City_Type          object\n",
       "Area_dist_level         object\n",
       "Counterfeit_Sales      float64\n",
       "data                    object\n",
       "dtype: object"
      ]
     },
     "execution_count": 11,
     "metadata": {},
     "output_type": "execute_result"
    }
   ],
   "source": [
    "cf_all.dtypes"
   ]
  },
  {
   "cell_type": "code",
   "execution_count": 12,
   "metadata": {},
   "outputs": [
    {
     "data": {
      "text/plain": [
       "Antibiotics           1232\n",
       "Hreplacements         1200\n",
       "Antiseptics            910\n",
       "OralContraceptives     856\n",
       "Antipyretics           682\n",
       "Cardiac                649\n",
       "Mstablizers            648\n",
       "Tranquilizers          520\n",
       "Analgesics             445\n",
       "Antimalarial           425\n",
       "Antacids               251\n",
       "Statins                214\n",
       "MuscleRelaxants        169\n",
       "Antifungal             148\n",
       "Stimulants             110\n",
       "Antiviral               64\n",
       "Name: Medicine_Type, dtype: int64"
      ]
     },
     "execution_count": 12,
     "metadata": {},
     "output_type": "execute_result"
    }
   ],
   "source": [
    "cf_all['Medicine_Type'].value_counts()"
   ]
  },
  {
   "cell_type": "code",
   "execution_count": 13,
   "metadata": {},
   "outputs": [
    {
     "data": {
      "text/plain": [
       "mild        5517\n",
       "critical    3006\n",
       "Name: SidEffect_Level, dtype: int64"
      ]
     },
     "execution_count": 13,
     "metadata": {},
     "output_type": "execute_result"
    }
   ],
   "source": [
    "cf_all['SidEffect_Level'].value_counts()"
   ]
  },
  {
   "cell_type": "code",
   "execution_count": 14,
   "metadata": {},
   "outputs": [],
   "source": [
    "cf_all['sideffect']=np.where(cf_all['SidEffect_Level']=='mild',1,0)\n",
    "cf_all=cf_all.drop('SidEffect_Level',axis=1)"
   ]
  },
  {
   "cell_type": "code",
   "execution_count": 15,
   "metadata": {},
   "outputs": [
    {
     "data": {
      "text/plain": [
       "Medicine_ID             object\n",
       "Counterfeit_Weight     float64\n",
       "DistArea_ID             object\n",
       "Active_Since             int64\n",
       "Medicine_MRP           float64\n",
       "Medicine_Type           object\n",
       "Availability_rating    float64\n",
       "Area_Type               object\n",
       "Area_City_Type          object\n",
       "Area_dist_level         object\n",
       "Counterfeit_Sales      float64\n",
       "data                    object\n",
       "sideffect                int32\n",
       "dtype: object"
      ]
     },
     "execution_count": 15,
     "metadata": {},
     "output_type": "execute_result"
    }
   ],
   "source": [
    "cf_all.dtypes"
   ]
  },
  {
   "cell_type": "code",
   "execution_count": 16,
   "metadata": {},
   "outputs": [
    {
     "data": {
      "text/plain": [
       "DownTown              5577\n",
       "MidTownResidential    1083\n",
       "CityLimits             935\n",
       "Industrial             928\n",
       "Name: Area_Type, dtype: int64"
      ]
     },
     "execution_count": 16,
     "metadata": {},
     "output_type": "execute_result"
    }
   ],
   "source": [
    "cf_all['Area_Type'].value_counts()"
   ]
  },
  {
   "cell_type": "code",
   "execution_count": 17,
   "metadata": {},
   "outputs": [],
   "source": [
    "cf_all['DT']=np.where(cf_all['Area_Type']=='DownTown',1,0)\n",
    "cf_all['MTR']=np.where(cf_all['Area_Type']=='MidTownResidential',1,0)\n",
    "cf_all['AreaName']=np.where(cf_all['Area_Type']=='CityLimits',1,0)\n",
    "cf_all=cf_all.drop('Area_Type',axis=1)"
   ]
  },
  {
   "cell_type": "code",
   "execution_count": 18,
   "metadata": {},
   "outputs": [
    {
     "data": {
      "text/html": [
       "<div>\n",
       "<style scoped>\n",
       "    .dataframe tbody tr th:only-of-type {\n",
       "        vertical-align: middle;\n",
       "    }\n",
       "\n",
       "    .dataframe tbody tr th {\n",
       "        vertical-align: top;\n",
       "    }\n",
       "\n",
       "    .dataframe thead th {\n",
       "        text-align: right;\n",
       "    }\n",
       "</style>\n",
       "<table border=\"1\" class=\"dataframe\">\n",
       "  <thead>\n",
       "    <tr style=\"text-align: right;\">\n",
       "      <th></th>\n",
       "      <th>Medicine_ID</th>\n",
       "      <th>Counterfeit_Weight</th>\n",
       "      <th>DistArea_ID</th>\n",
       "      <th>Active_Since</th>\n",
       "      <th>Medicine_MRP</th>\n",
       "      <th>Medicine_Type</th>\n",
       "      <th>Availability_rating</th>\n",
       "      <th>Area_City_Type</th>\n",
       "      <th>Area_dist_level</th>\n",
       "      <th>Counterfeit_Sales</th>\n",
       "      <th>data</th>\n",
       "      <th>sideffect</th>\n",
       "      <th>DT</th>\n",
       "      <th>MTR</th>\n",
       "      <th>AreaName</th>\n",
       "    </tr>\n",
       "  </thead>\n",
       "  <tbody>\n",
       "    <tr>\n",
       "      <th>0</th>\n",
       "      <td>RRA15</td>\n",
       "      <td>13.100</td>\n",
       "      <td>Area046</td>\n",
       "      <td>1995</td>\n",
       "      <td>160.2366</td>\n",
       "      <td>Antimalarial</td>\n",
       "      <td>0.070422</td>\n",
       "      <td>Tier 1</td>\n",
       "      <td>Small</td>\n",
       "      <td>1775.5026</td>\n",
       "      <td>train</td>\n",
       "      <td>0</td>\n",
       "      <td>1</td>\n",
       "      <td>0</td>\n",
       "      <td>0</td>\n",
       "    </tr>\n",
       "    <tr>\n",
       "      <th>1</th>\n",
       "      <td>YVV26</td>\n",
       "      <td>NaN</td>\n",
       "      <td>Area027</td>\n",
       "      <td>1983</td>\n",
       "      <td>110.4384</td>\n",
       "      <td>Mstablizers</td>\n",
       "      <td>0.013000</td>\n",
       "      <td>Tier 3</td>\n",
       "      <td>Medium</td>\n",
       "      <td>3069.1520</td>\n",
       "      <td>train</td>\n",
       "      <td>1</td>\n",
       "      <td>0</td>\n",
       "      <td>0</td>\n",
       "      <td>1</td>\n",
       "    </tr>\n",
       "    <tr>\n",
       "      <th>2</th>\n",
       "      <td>LJC15</td>\n",
       "      <td>9.025</td>\n",
       "      <td>Area046</td>\n",
       "      <td>1995</td>\n",
       "      <td>259.4092</td>\n",
       "      <td>Cardiac</td>\n",
       "      <td>0.060783</td>\n",
       "      <td>Tier 1</td>\n",
       "      <td>Small</td>\n",
       "      <td>2603.0920</td>\n",
       "      <td>train</td>\n",
       "      <td>1</td>\n",
       "      <td>1</td>\n",
       "      <td>0</td>\n",
       "      <td>0</td>\n",
       "    </tr>\n",
       "    <tr>\n",
       "      <th>3</th>\n",
       "      <td>GWC40</td>\n",
       "      <td>11.800</td>\n",
       "      <td>Area046</td>\n",
       "      <td>1995</td>\n",
       "      <td>99.9830</td>\n",
       "      <td>OralContraceptives</td>\n",
       "      <td>0.065555</td>\n",
       "      <td>Tier 1</td>\n",
       "      <td>Small</td>\n",
       "      <td>1101.7130</td>\n",
       "      <td>train</td>\n",
       "      <td>1</td>\n",
       "      <td>1</td>\n",
       "      <td>0</td>\n",
       "      <td>0</td>\n",
       "    </tr>\n",
       "    <tr>\n",
       "      <th>4</th>\n",
       "      <td>QMN13</td>\n",
       "      <td>NaN</td>\n",
       "      <td>Area019</td>\n",
       "      <td>1983</td>\n",
       "      <td>56.4402</td>\n",
       "      <td>Hreplacements</td>\n",
       "      <td>0.248859</td>\n",
       "      <td>Tier 1</td>\n",
       "      <td>Small</td>\n",
       "      <td>158.9402</td>\n",
       "      <td>train</td>\n",
       "      <td>0</td>\n",
       "      <td>0</td>\n",
       "      <td>1</td>\n",
       "      <td>0</td>\n",
       "    </tr>\n",
       "  </tbody>\n",
       "</table>\n",
       "</div>"
      ],
      "text/plain": [
       "  Medicine_ID  Counterfeit_Weight DistArea_ID  Active_Since  Medicine_MRP  \\\n",
       "0       RRA15              13.100     Area046          1995      160.2366   \n",
       "1       YVV26                 NaN     Area027          1983      110.4384   \n",
       "2       LJC15               9.025     Area046          1995      259.4092   \n",
       "3       GWC40              11.800     Area046          1995       99.9830   \n",
       "4       QMN13                 NaN     Area019          1983       56.4402   \n",
       "\n",
       "        Medicine_Type  Availability_rating Area_City_Type Area_dist_level  \\\n",
       "0        Antimalarial             0.070422         Tier 1           Small   \n",
       "1         Mstablizers             0.013000         Tier 3          Medium   \n",
       "2             Cardiac             0.060783         Tier 1           Small   \n",
       "3  OralContraceptives             0.065555         Tier 1           Small   \n",
       "4       Hreplacements             0.248859         Tier 1           Small   \n",
       "\n",
       "   Counterfeit_Sales   data  sideffect  DT  MTR  AreaName  \n",
       "0          1775.5026  train          0   1    0         0  \n",
       "1          3069.1520  train          1   0    0         1  \n",
       "2          2603.0920  train          1   1    0         0  \n",
       "3          1101.7130  train          1   1    0         0  \n",
       "4           158.9402  train          0   0    1         0  "
      ]
     },
     "execution_count": 18,
     "metadata": {},
     "output_type": "execute_result"
    }
   ],
   "source": [
    "cf_all.head(5)"
   ]
  },
  {
   "cell_type": "code",
   "execution_count": 19,
   "metadata": {},
   "outputs": [
    {
     "data": {
      "text/plain": [
       "Medicine_ID             object\n",
       "Counterfeit_Weight     float64\n",
       "DistArea_ID             object\n",
       "Active_Since             int64\n",
       "Medicine_MRP           float64\n",
       "Medicine_Type           object\n",
       "Availability_rating    float64\n",
       "Area_City_Type          object\n",
       "Area_dist_level         object\n",
       "Counterfeit_Sales      float64\n",
       "data                    object\n",
       "sideffect                int32\n",
       "DT                       int32\n",
       "MTR                      int32\n",
       "AreaName                 int32\n",
       "dtype: object"
      ]
     },
     "execution_count": 19,
     "metadata": {},
     "output_type": "execute_result"
    }
   ],
   "source": [
    "cf_all.dtypes"
   ]
  },
  {
   "cell_type": "code",
   "execution_count": 20,
   "metadata": {},
   "outputs": [
    {
     "data": {
      "text/plain": [
       "Tier 3    3350\n",
       "Tier 2    2785\n",
       "Tier 1    2388\n",
       "Name: Area_City_Type, dtype: int64"
      ]
     },
     "execution_count": 20,
     "metadata": {},
     "output_type": "execute_result"
    }
   ],
   "source": [
    "cf_all['Area_City_Type'].value_counts()"
   ]
  },
  {
   "cell_type": "code",
   "execution_count": 21,
   "metadata": {},
   "outputs": [],
   "source": [
    "cf_all['T3']=np.where(cf_all['Area_City_Type']=='Tier 3',1,0)\n",
    "cf_all['T2']=np.where(cf_all['Area_City_Type']=='Tier 2',1,0)\n",
    "cf_all=cf_all.drop(['Area_City_Type'],axis=1)"
   ]
  },
  {
   "cell_type": "code",
   "execution_count": 22,
   "metadata": {},
   "outputs": [
    {
     "data": {
      "text/plain": [
       "Medicine_ID             object\n",
       "Counterfeit_Weight     float64\n",
       "DistArea_ID             object\n",
       "Active_Since             int64\n",
       "Medicine_MRP           float64\n",
       "Medicine_Type           object\n",
       "Availability_rating    float64\n",
       "Area_dist_level         object\n",
       "Counterfeit_Sales      float64\n",
       "data                    object\n",
       "sideffect                int32\n",
       "DT                       int32\n",
       "MTR                      int32\n",
       "AreaName                 int32\n",
       "T3                       int32\n",
       "T2                       int32\n",
       "dtype: object"
      ]
     },
     "execution_count": 22,
     "metadata": {},
     "output_type": "execute_result"
    }
   ],
   "source": [
    "cf_all.dtypes"
   ]
  },
  {
   "cell_type": "code",
   "execution_count": 23,
   "metadata": {},
   "outputs": [
    {
     "data": {
      "text/plain": [
       "Medium     2793\n",
       "Unknown    2410\n",
       "Small      2388\n",
       "High        932\n",
       "Name: Area_dist_level, dtype: int64"
      ]
     },
     "execution_count": 23,
     "metadata": {},
     "output_type": "execute_result"
    }
   ],
   "source": [
    "cf_all['Area_dist_level'].value_counts()"
   ]
  },
  {
   "cell_type": "code",
   "execution_count": 24,
   "metadata": {},
   "outputs": [],
   "source": [
    "cf_all['medium']=np.where(cf_all['Area_dist_level']=='Medium',1,0)\n",
    "cf_all['unknown']=np.where(cf_all['Area_dist_level']=='Unknown',1,0)\n",
    "cf_all['small']=np.where(cf_all['Area_dist_level']=='Small',1,0)\n",
    "cf_all=cf_all.drop('Area_dist_level',axis=1)"
   ]
  },
  {
   "cell_type": "code",
   "execution_count": 25,
   "metadata": {},
   "outputs": [],
   "source": [
    "cat_cols=cf_all.select_dtypes(['object']).columns"
   ]
  },
  {
   "cell_type": "code",
   "execution_count": 26,
   "metadata": {},
   "outputs": [
    {
     "data": {
      "text/plain": [
       "Index(['Medicine_ID', 'DistArea_ID', 'Medicine_Type', 'data'], dtype='object')"
      ]
     },
     "execution_count": 26,
     "metadata": {},
     "output_type": "execute_result"
    }
   ],
   "source": [
    "cat_cols"
   ]
  },
  {
   "cell_type": "code",
   "execution_count": 27,
   "metadata": {},
   "outputs": [
    {
     "data": {
      "text/plain": [
       "(8523, 18)"
      ]
     },
     "execution_count": 27,
     "metadata": {},
     "output_type": "execute_result"
    }
   ],
   "source": [
    "cf_all.shape"
   ]
  },
  {
   "cell_type": "code",
   "execution_count": 28,
   "metadata": {},
   "outputs": [
    {
     "data": {
      "text/plain": [
       "Antibiotics           1232\n",
       "Hreplacements         1200\n",
       "Antiseptics            910\n",
       "OralContraceptives     856\n",
       "Antipyretics           682\n",
       "Cardiac                649\n",
       "Mstablizers            648\n",
       "Tranquilizers          520\n",
       "Analgesics             445\n",
       "Antimalarial           425\n",
       "Antacids               251\n",
       "Statins                214\n",
       "MuscleRelaxants        169\n",
       "Antifungal             148\n",
       "Stimulants             110\n",
       "Antiviral               64\n",
       "Name: Medicine_Type, dtype: int64"
      ]
     },
     "execution_count": 28,
     "metadata": {},
     "output_type": "execute_result"
    }
   ],
   "source": [
    "cf_all['Medicine_Type'].value_counts()"
   ]
  },
  {
   "cell_type": "code",
   "execution_count": 29,
   "metadata": {},
   "outputs": [],
   "source": [
    "MT_dummies=pd.get_dummies(cf_all['Medicine_Type'],prefix='MM')"
   ]
  },
  {
   "cell_type": "code",
   "execution_count": 30,
   "metadata": {},
   "outputs": [
    {
     "data": {
      "text/html": [
       "<div>\n",
       "<style scoped>\n",
       "    .dataframe tbody tr th:only-of-type {\n",
       "        vertical-align: middle;\n",
       "    }\n",
       "\n",
       "    .dataframe tbody tr th {\n",
       "        vertical-align: top;\n",
       "    }\n",
       "\n",
       "    .dataframe thead th {\n",
       "        text-align: right;\n",
       "    }\n",
       "</style>\n",
       "<table border=\"1\" class=\"dataframe\">\n",
       "  <thead>\n",
       "    <tr style=\"text-align: right;\">\n",
       "      <th></th>\n",
       "      <th>MM_Analgesics</th>\n",
       "      <th>MM_Antacids</th>\n",
       "      <th>MM_Antibiotics</th>\n",
       "      <th>MM_Antifungal</th>\n",
       "      <th>MM_Antimalarial</th>\n",
       "      <th>MM_Antipyretics</th>\n",
       "      <th>MM_Antiseptics</th>\n",
       "      <th>MM_Antiviral</th>\n",
       "      <th>MM_Cardiac</th>\n",
       "      <th>MM_Hreplacements</th>\n",
       "      <th>MM_Mstablizers</th>\n",
       "      <th>MM_MuscleRelaxants</th>\n",
       "      <th>MM_OralContraceptives</th>\n",
       "      <th>MM_Statins</th>\n",
       "      <th>MM_Stimulants</th>\n",
       "      <th>MM_Tranquilizers</th>\n",
       "    </tr>\n",
       "  </thead>\n",
       "  <tbody>\n",
       "    <tr>\n",
       "      <th>0</th>\n",
       "      <td>0</td>\n",
       "      <td>0</td>\n",
       "      <td>0</td>\n",
       "      <td>0</td>\n",
       "      <td>1</td>\n",
       "      <td>0</td>\n",
       "      <td>0</td>\n",
       "      <td>0</td>\n",
       "      <td>0</td>\n",
       "      <td>0</td>\n",
       "      <td>0</td>\n",
       "      <td>0</td>\n",
       "      <td>0</td>\n",
       "      <td>0</td>\n",
       "      <td>0</td>\n",
       "      <td>0</td>\n",
       "    </tr>\n",
       "    <tr>\n",
       "      <th>1</th>\n",
       "      <td>0</td>\n",
       "      <td>0</td>\n",
       "      <td>0</td>\n",
       "      <td>0</td>\n",
       "      <td>0</td>\n",
       "      <td>0</td>\n",
       "      <td>0</td>\n",
       "      <td>0</td>\n",
       "      <td>0</td>\n",
       "      <td>0</td>\n",
       "      <td>1</td>\n",
       "      <td>0</td>\n",
       "      <td>0</td>\n",
       "      <td>0</td>\n",
       "      <td>0</td>\n",
       "      <td>0</td>\n",
       "    </tr>\n",
       "    <tr>\n",
       "      <th>2</th>\n",
       "      <td>0</td>\n",
       "      <td>0</td>\n",
       "      <td>0</td>\n",
       "      <td>0</td>\n",
       "      <td>0</td>\n",
       "      <td>0</td>\n",
       "      <td>0</td>\n",
       "      <td>0</td>\n",
       "      <td>1</td>\n",
       "      <td>0</td>\n",
       "      <td>0</td>\n",
       "      <td>0</td>\n",
       "      <td>0</td>\n",
       "      <td>0</td>\n",
       "      <td>0</td>\n",
       "      <td>0</td>\n",
       "    </tr>\n",
       "    <tr>\n",
       "      <th>3</th>\n",
       "      <td>0</td>\n",
       "      <td>0</td>\n",
       "      <td>0</td>\n",
       "      <td>0</td>\n",
       "      <td>0</td>\n",
       "      <td>0</td>\n",
       "      <td>0</td>\n",
       "      <td>0</td>\n",
       "      <td>0</td>\n",
       "      <td>0</td>\n",
       "      <td>0</td>\n",
       "      <td>0</td>\n",
       "      <td>1</td>\n",
       "      <td>0</td>\n",
       "      <td>0</td>\n",
       "      <td>0</td>\n",
       "    </tr>\n",
       "    <tr>\n",
       "      <th>4</th>\n",
       "      <td>0</td>\n",
       "      <td>0</td>\n",
       "      <td>0</td>\n",
       "      <td>0</td>\n",
       "      <td>0</td>\n",
       "      <td>0</td>\n",
       "      <td>0</td>\n",
       "      <td>0</td>\n",
       "      <td>0</td>\n",
       "      <td>1</td>\n",
       "      <td>0</td>\n",
       "      <td>0</td>\n",
       "      <td>0</td>\n",
       "      <td>0</td>\n",
       "      <td>0</td>\n",
       "      <td>0</td>\n",
       "    </tr>\n",
       "  </tbody>\n",
       "</table>\n",
       "</div>"
      ],
      "text/plain": [
       "   MM_Analgesics  MM_Antacids  MM_Antibiotics  MM_Antifungal  MM_Antimalarial  \\\n",
       "0              0            0               0              0                1   \n",
       "1              0            0               0              0                0   \n",
       "2              0            0               0              0                0   \n",
       "3              0            0               0              0                0   \n",
       "4              0            0               0              0                0   \n",
       "\n",
       "   MM_Antipyretics  MM_Antiseptics  MM_Antiviral  MM_Cardiac  \\\n",
       "0                0               0             0           0   \n",
       "1                0               0             0           0   \n",
       "2                0               0             0           1   \n",
       "3                0               0             0           0   \n",
       "4                0               0             0           0   \n",
       "\n",
       "   MM_Hreplacements  MM_Mstablizers  MM_MuscleRelaxants  \\\n",
       "0                 0               0                   0   \n",
       "1                 0               1                   0   \n",
       "2                 0               0                   0   \n",
       "3                 0               0                   0   \n",
       "4                 1               0                   0   \n",
       "\n",
       "   MM_OralContraceptives  MM_Statins  MM_Stimulants  MM_Tranquilizers  \n",
       "0                      0           0              0                 0  \n",
       "1                      0           0              0                 0  \n",
       "2                      0           0              0                 0  \n",
       "3                      1           0              0                 0  \n",
       "4                      0           0              0                 0  "
      ]
     },
     "execution_count": 30,
     "metadata": {},
     "output_type": "execute_result"
    }
   ],
   "source": [
    "MT_dummies.head()"
   ]
  },
  {
   "cell_type": "code",
   "execution_count": 31,
   "metadata": {},
   "outputs": [],
   "source": [
    "cf_all=pd.concat([cf_all,MT_dummies],axis=1)\n",
    "cf_all=cf_all.drop(['Medicine_Type','MM_Antiviral'],axis=1)"
   ]
  },
  {
   "cell_type": "code",
   "execution_count": 32,
   "metadata": {},
   "outputs": [
    {
     "data": {
      "text/plain": [
       "(8523, 32)"
      ]
     },
     "execution_count": 32,
     "metadata": {},
     "output_type": "execute_result"
    }
   ],
   "source": [
    "cf_all.shape"
   ]
  },
  {
   "cell_type": "code",
   "execution_count": 33,
   "metadata": {},
   "outputs": [
    {
     "data": {
      "text/plain": [
       "Medicine_ID               object\n",
       "Counterfeit_Weight       float64\n",
       "DistArea_ID               object\n",
       "Active_Since               int64\n",
       "Medicine_MRP             float64\n",
       "Availability_rating      float64\n",
       "Counterfeit_Sales        float64\n",
       "data                      object\n",
       "sideffect                  int32\n",
       "DT                         int32\n",
       "MTR                        int32\n",
       "AreaName                   int32\n",
       "T3                         int32\n",
       "T2                         int32\n",
       "medium                     int32\n",
       "unknown                    int32\n",
       "small                      int32\n",
       "MM_Analgesics              uint8\n",
       "MM_Antacids                uint8\n",
       "MM_Antibiotics             uint8\n",
       "MM_Antifungal              uint8\n",
       "MM_Antimalarial            uint8\n",
       "MM_Antipyretics            uint8\n",
       "MM_Antiseptics             uint8\n",
       "MM_Cardiac                 uint8\n",
       "MM_Hreplacements           uint8\n",
       "MM_Mstablizers             uint8\n",
       "MM_MuscleRelaxants         uint8\n",
       "MM_OralContraceptives      uint8\n",
       "MM_Statins                 uint8\n",
       "MM_Stimulants              uint8\n",
       "MM_Tranquilizers           uint8\n",
       "dtype: object"
      ]
     },
     "execution_count": 33,
     "metadata": {},
     "output_type": "execute_result"
    }
   ],
   "source": [
    "cf_all.dtypes"
   ]
  },
  {
   "cell_type": "code",
   "execution_count": 34,
   "metadata": {},
   "outputs": [],
   "source": [
    "cf_all=cf_all.drop(['Medicine_ID','DistArea_ID'],axis=1)"
   ]
  },
  {
   "cell_type": "code",
   "execution_count": 35,
   "metadata": {},
   "outputs": [
    {
     "data": {
      "text/plain": [
       "Counterfeit_Weight       float64\n",
       "Active_Since               int64\n",
       "Medicine_MRP             float64\n",
       "Availability_rating      float64\n",
       "Counterfeit_Sales        float64\n",
       "data                      object\n",
       "sideffect                  int32\n",
       "DT                         int32\n",
       "MTR                        int32\n",
       "AreaName                   int32\n",
       "T3                         int32\n",
       "T2                         int32\n",
       "medium                     int32\n",
       "unknown                    int32\n",
       "small                      int32\n",
       "MM_Analgesics              uint8\n",
       "MM_Antacids                uint8\n",
       "MM_Antibiotics             uint8\n",
       "MM_Antifungal              uint8\n",
       "MM_Antimalarial            uint8\n",
       "MM_Antipyretics            uint8\n",
       "MM_Antiseptics             uint8\n",
       "MM_Cardiac                 uint8\n",
       "MM_Hreplacements           uint8\n",
       "MM_Mstablizers             uint8\n",
       "MM_MuscleRelaxants         uint8\n",
       "MM_OralContraceptives      uint8\n",
       "MM_Statins                 uint8\n",
       "MM_Stimulants              uint8\n",
       "MM_Tranquilizers           uint8\n",
       "dtype: object"
      ]
     },
     "execution_count": 35,
     "metadata": {},
     "output_type": "execute_result"
    }
   ],
   "source": [
    "cf_all.dtypes"
   ]
  },
  {
   "cell_type": "code",
   "execution_count": 36,
   "metadata": {},
   "outputs": [
    {
     "data": {
      "text/plain": [
       "(8523, 30)"
      ]
     },
     "execution_count": 36,
     "metadata": {},
     "output_type": "execute_result"
    }
   ],
   "source": [
    "cf_all.shape"
   ]
  },
  {
   "cell_type": "code",
   "execution_count": 37,
   "metadata": {},
   "outputs": [],
   "source": [
    "for col in cf_all.columns:\n",
    "    if(col not in ['Counterfeit_Sales','data']) & (cf_all[col].isnull().sum()>0):\n",
    "        cf_all.loc[cf_all[col].isnull(),col]=cf_all.loc[cf_all['data']=='train',col].mean()"
   ]
  },
  {
   "cell_type": "code",
   "execution_count": 38,
   "metadata": {},
   "outputs": [
    {
     "data": {
      "text/plain": [
       "Counterfeit_Weight          0\n",
       "Active_Since                0\n",
       "Medicine_MRP                0\n",
       "Availability_rating         0\n",
       "Counterfeit_Sales        1705\n",
       "data                        0\n",
       "sideffect                   0\n",
       "DT                          0\n",
       "MTR                         0\n",
       "AreaName                    0\n",
       "T3                          0\n",
       "T2                          0\n",
       "medium                      0\n",
       "unknown                     0\n",
       "small                       0\n",
       "MM_Analgesics               0\n",
       "MM_Antacids                 0\n",
       "MM_Antibiotics              0\n",
       "MM_Antifungal               0\n",
       "MM_Antimalarial             0\n",
       "MM_Antipyretics             0\n",
       "MM_Antiseptics              0\n",
       "MM_Cardiac                  0\n",
       "MM_Hreplacements            0\n",
       "MM_Mstablizers              0\n",
       "MM_MuscleRelaxants          0\n",
       "MM_OralContraceptives       0\n",
       "MM_Statins                  0\n",
       "MM_Stimulants               0\n",
       "MM_Tranquilizers            0\n",
       "dtype: int64"
      ]
     },
     "execution_count": 38,
     "metadata": {},
     "output_type": "execute_result"
    }
   ],
   "source": [
    "cf_all.isnull().sum()"
   ]
  },
  {
   "cell_type": "code",
   "execution_count": 39,
   "metadata": {},
   "outputs": [
    {
     "name": "stderr",
     "output_type": "stream",
     "text": [
      "C:\\Users\\ADMIN\\Anaconda3\\lib\\site-packages\\ipykernel_launcher.py:4: SettingWithCopyWarning: \n",
      "A value is trying to be set on a copy of a slice from a DataFrame\n",
      "\n",
      "See the caveats in the documentation: http://pandas.pydata.org/pandas-docs/stable/indexing.html#indexing-view-versus-copy\n",
      "  after removing the cwd from sys.path.\n"
     ]
    }
   ],
   "source": [
    "cf_train=cf_all[cf_all['data']=='train']\n",
    "del cf_train['data']\n",
    "cf_test=cf_all[cf_all['data']=='test']\n",
    "cf_test.drop(['Counterfeit_Sales','data'],axis=1,inplace=True)"
   ]
  },
  {
   "cell_type": "code",
   "execution_count": 40,
   "metadata": {},
   "outputs": [],
   "source": [
    "del cf_all"
   ]
  },
  {
   "cell_type": "code",
   "execution_count": 41,
   "metadata": {},
   "outputs": [],
   "source": [
    "cf_train1,cf_train2=train_test_split(cf_train, test_size=.2, random_state=2)"
   ]
  },
  {
   "cell_type": "code",
   "execution_count": 42,
   "metadata": {},
   "outputs": [
    {
     "data": {
      "text/plain": [
       "(5454, 29)"
      ]
     },
     "execution_count": 42,
     "metadata": {},
     "output_type": "execute_result"
    }
   ],
   "source": [
    "cf_train1.shape"
   ]
  },
  {
   "cell_type": "code",
   "execution_count": 43,
   "metadata": {},
   "outputs": [
    {
     "data": {
      "text/plain": [
       "(1364, 29)"
      ]
     },
     "execution_count": 43,
     "metadata": {},
     "output_type": "execute_result"
    }
   ],
   "source": [
    "cf_train2.shape"
   ]
  },
  {
   "cell_type": "code",
   "execution_count": 44,
   "metadata": {},
   "outputs": [],
   "source": [
    "x_train1=cf_train1.drop('Counterfeit_Sales',axis=1)\n",
    "y_train1=cf_train1['Counterfeit_Sales']\n",
    "x_train2=cf_train2.drop('Counterfeit_Sales',axis=1)\n",
    "y_train2=cf_train2['Counterfeit_Sales']"
   ]
  },
  {
   "cell_type": "markdown",
   "metadata": {},
   "source": [
    "# Linear Regression"
   ]
  },
  {
   "cell_type": "code",
   "execution_count": null,
   "metadata": {},
   "outputs": [],
   "source": [
    "lm=LinearRegression()"
   ]
  },
  {
   "cell_type": "code",
   "execution_count": null,
   "metadata": {},
   "outputs": [],
   "source": [
    "lm.fit(x_train1,y_train1)"
   ]
  },
  {
   "cell_type": "code",
   "execution_count": null,
   "metadata": {},
   "outputs": [],
   "source": [
    "x_train1.shape"
   ]
  },
  {
   "cell_type": "code",
   "execution_count": null,
   "metadata": {},
   "outputs": [],
   "source": [
    "lm.intercept_"
   ]
  },
  {
   "cell_type": "code",
   "execution_count": null,
   "metadata": {},
   "outputs": [],
   "source": [
    "list(zip(x_train1.columns,lm.coef_))"
   ]
  },
  {
   "cell_type": "code",
   "execution_count": null,
   "metadata": {},
   "outputs": [],
   "source": [
    "predicted_ir=lm.predict(x_train2)"
   ]
  },
  {
   "cell_type": "code",
   "execution_count": null,
   "metadata": {},
   "outputs": [],
   "source": [
    "mean_absolute_error(cf_train2['Counterfeit_Sales'],predicted_ir)"
   ]
  },
  {
   "cell_type": "code",
   "execution_count": null,
   "metadata": {},
   "outputs": [],
   "source": [
    "y_train2=cf_train2['Counterfeit_Sales']"
   ]
  },
  {
   "cell_type": "code",
   "execution_count": null,
   "metadata": {},
   "outputs": [],
   "source": [
    "from sklearn.metrics import r2_score"
   ]
  },
  {
   "cell_type": "code",
   "execution_count": null,
   "metadata": {},
   "outputs": [],
   "source": [
    "r2_score(predicted_ir,y_train2)"
   ]
  },
  {
   "cell_type": "markdown",
   "metadata": {},
   "source": [
    "## RandomForest"
   ]
  },
  {
   "cell_type": "code",
   "execution_count": 45,
   "metadata": {},
   "outputs": [
    {
     "name": "stderr",
     "output_type": "stream",
     "text": [
      "C:\\Users\\ADMIN\\Anaconda3\\lib\\site-packages\\sklearn\\ensemble\\weight_boosting.py:29: DeprecationWarning: numpy.core.umath_tests is an internal NumPy module and should not be imported. It will be removed in a future NumPy release.\n",
      "  from numpy.core.umath_tests import inner1d\n"
     ]
    }
   ],
   "source": [
    "from sklearn.ensemble import RandomForestRegressor"
   ]
  },
  {
   "cell_type": "code",
   "execution_count": 46,
   "metadata": {},
   "outputs": [],
   "source": [
    "rf=RandomForestRegressor(n_estimators=600,criterion='mse',max_depth=6,bootstrap=True,min_samples_split=2)"
   ]
  },
  {
   "cell_type": "code",
   "execution_count": 47,
   "metadata": {},
   "outputs": [
    {
     "data": {
      "text/plain": [
       "RandomForestRegressor(bootstrap=True, criterion='mse', max_depth=6,\n",
       "           max_features='auto', max_leaf_nodes=None,\n",
       "           min_impurity_decrease=0.0, min_impurity_split=None,\n",
       "           min_samples_leaf=1, min_samples_split=2,\n",
       "           min_weight_fraction_leaf=0.0, n_estimators=600, n_jobs=1,\n",
       "           oob_score=False, random_state=None, verbose=0, warm_start=False)"
      ]
     },
     "execution_count": 47,
     "metadata": {},
     "output_type": "execute_result"
    }
   ],
   "source": [
    "rf.fit(x_train1,y_train1)"
   ]
  },
  {
   "cell_type": "code",
   "execution_count": 48,
   "metadata": {},
   "outputs": [],
   "source": [
    "predicted_rf=rf.predict(x_train2)"
   ]
  },
  {
   "cell_type": "code",
   "execution_count": 49,
   "metadata": {},
   "outputs": [
    {
     "data": {
      "text/plain": [
       "756.2671254782391"
      ]
     },
     "execution_count": 49,
     "metadata": {},
     "output_type": "execute_result"
    }
   ],
   "source": [
    "mean_absolute_error(cf_train2['Counterfeit_Sales'],predicted_rf)"
   ]
  },
  {
   "cell_type": "code",
   "execution_count": 51,
   "metadata": {},
   "outputs": [],
   "source": [
    "from sklearn.metrics import r2_score"
   ]
  },
  {
   "cell_type": "code",
   "execution_count": 52,
   "metadata": {},
   "outputs": [
    {
     "data": {
      "text/plain": [
       "0.5815446912163759"
      ]
     },
     "execution_count": 52,
     "metadata": {},
     "output_type": "execute_result"
    }
   ],
   "source": [
    "r2_score(y_train2,predicted_rf)"
   ]
  },
  {
   "cell_type": "code",
   "execution_count": 53,
   "metadata": {},
   "outputs": [],
   "source": [
    "def rmse(predictions, targets):\n",
    "    return np.sqrt(((predictions - targets) ** 2).mean())"
   ]
  },
  {
   "cell_type": "code",
   "execution_count": 54,
   "metadata": {},
   "outputs": [
    {
     "data": {
      "text/plain": [
       "1095.8661980412498"
      ]
     },
     "execution_count": 54,
     "metadata": {},
     "output_type": "execute_result"
    }
   ],
   "source": [
    "rmse(y_train2,predicted_rf)"
   ]
  },
  {
   "cell_type": "code",
   "execution_count": 55,
   "metadata": {},
   "outputs": [],
   "source": [
    "## rmse for train data\n",
    "pred_train=rf.predict(x_train1)"
   ]
  },
  {
   "cell_type": "code",
   "execution_count": 56,
   "metadata": {},
   "outputs": [
    {
     "data": {
      "text/plain": [
       "1017.2695583169049"
      ]
     },
     "execution_count": 56,
     "metadata": {},
     "output_type": "execute_result"
    }
   ],
   "source": [
    "## rmse train\n",
    "rmse_train=rmse(y_train1,pred_train)\n",
    "rmse_train"
   ]
  },
  {
   "cell_type": "code",
   "execution_count": 46,
   "metadata": {},
   "outputs": [],
   "source": [
    "copy_data=cf_train.copy()"
   ]
  },
  {
   "cell_type": "code",
   "execution_count": 47,
   "metadata": {},
   "outputs": [
    {
     "data": {
      "text/plain": [
       "(6818, 29)"
      ]
     },
     "execution_count": 47,
     "metadata": {},
     "output_type": "execute_result"
    }
   ],
   "source": [
    "cf_train.shape"
   ]
  },
  {
   "cell_type": "code",
   "execution_count": 48,
   "metadata": {},
   "outputs": [
    {
     "data": {
      "text/plain": [
       "(6818, 29)"
      ]
     },
     "execution_count": 48,
     "metadata": {},
     "output_type": "execute_result"
    }
   ],
   "source": [
    "copy_data.shape"
   ]
  },
  {
   "cell_type": "code",
   "execution_count": 49,
   "metadata": {},
   "outputs": [],
   "source": [
    "from sklearn.decomposition import PCA"
   ]
  },
  {
   "cell_type": "code",
   "execution_count": 50,
   "metadata": {},
   "outputs": [],
   "source": [
    "X=copy_data.values"
   ]
  },
  {
   "cell_type": "code",
   "execution_count": 51,
   "metadata": {},
   "outputs": [],
   "source": [
    "pca=PCA(n_components=29)"
   ]
  },
  {
   "cell_type": "code",
   "execution_count": 52,
   "metadata": {},
   "outputs": [
    {
     "data": {
      "text/plain": [
       "PCA(copy=True, iterated_power='auto', n_components=29, random_state=None,\n",
       "  svd_solver='auto', tol=0.0, whiten=False)"
      ]
     },
     "execution_count": 52,
     "metadata": {},
     "output_type": "execute_result"
    }
   ],
   "source": [
    "pca.fit(X)"
   ]
  },
  {
   "cell_type": "code",
   "execution_count": 53,
   "metadata": {},
   "outputs": [],
   "source": [
    "var=pca.explained_variance_ratio_"
   ]
  },
  {
   "cell_type": "code",
   "execution_count": 54,
   "metadata": {},
   "outputs": [],
   "source": [
    "var1=np.cumsum(pca.explained_variance_ratio_*100)"
   ]
  },
  {
   "cell_type": "code",
   "execution_count": 55,
   "metadata": {},
   "outputs": [
    {
     "data": {
      "text/plain": [
       "array([ 99.90648554,  99.99685367,  99.99929288,  99.9999164 ,\n",
       "        99.99993639,  99.99994667,  99.99995529,  99.99996149,\n",
       "        99.99996646,  99.99997073,  99.99997465,  99.99997799,\n",
       "        99.99998112,  99.99998401,  99.99998669,  99.99998932,\n",
       "        99.99999145,  99.99999337,  99.99999505,  99.99999619,\n",
       "        99.99999708,  99.99999785,  99.99999859,  99.99999918,\n",
       "        99.99999968,  99.99999988,  99.99999997,  99.99999998,\n",
       "       100.        ])"
      ]
     },
     "execution_count": 55,
     "metadata": {},
     "output_type": "execute_result"
    }
   ],
   "source": [
    "var1"
   ]
  },
  {
   "cell_type": "code",
   "execution_count": 56,
   "metadata": {},
   "outputs": [],
   "source": [
    "import matplotlib.pyplot as plt\n",
    "%matplotlib inline"
   ]
  },
  {
   "cell_type": "code",
   "execution_count": 57,
   "metadata": {},
   "outputs": [
    {
     "data": {
      "text/plain": [
       "[<matplotlib.lines.Line2D at 0x2b0d736c710>]"
      ]
     },
     "execution_count": 57,
     "metadata": {},
     "output_type": "execute_result"
    },
    {
     "data": {
      "image/png": "[encoded data removed]",
      "text/plain": [
       "<matplotlib.figure.Figure at 0x2b0d1b4e5c0>"
      ]
     },
     "metadata": {},
     "output_type": "display_data"
    }
   ],
   "source": [
    "plt.plot(var1)"
   ]
  },
  {
   "cell_type": "code",
   "execution_count": 58,
   "metadata": {},
   "outputs": [],
   "source": [
    "target=cf_train['Counterfeit_Sales']"
   ]
  },
  {
   "cell_type": "code",
   "execution_count": 59,
   "metadata": {},
   "outputs": [],
   "source": [
    "# From the above plot selecting 2 components since it explains almost 98+ % data variance\n",
    "pca = PCA(n_components=4)\n",
    "\n",
    "# Fitting the selected components to the data\n",
    "pca.fit(X)\n",
    "\n",
    "# Using train_test_split sampling function for test and train data split\n",
    "X_train, X_test, Y_train, Y_test = train_test_split(X,target, test_size=0.2)"
   ]
  },
  {
   "cell_type": "code",
   "execution_count": 60,
   "metadata": {},
   "outputs": [
    {
     "data": {
      "text/plain": [
       "(5454, 29)"
      ]
     },
     "execution_count": 60,
     "metadata": {},
     "output_type": "execute_result"
    }
   ],
   "source": [
    "X_train.shape"
   ]
  },
  {
   "cell_type": "code",
   "execution_count": 61,
   "metadata": {},
   "outputs": [
    {
     "data": {
      "text/plain": [
       "(5454,)"
      ]
     },
     "execution_count": 61,
     "metadata": {},
     "output_type": "execute_result"
    }
   ],
   "source": [
    "Y_train.shape"
   ]
  },
  {
   "cell_type": "code",
   "execution_count": 62,
   "metadata": {},
   "outputs": [],
   "source": [
    "rf1=RandomForestRegressor(n_estimators=600,criterion='mse',max_depth=6,bootstrap=True,min_samples_split=2)"
   ]
  },
  {
   "cell_type": "code",
   "execution_count": 63,
   "metadata": {},
   "outputs": [
    {
     "data": {
      "text/plain": [
       "RandomForestRegressor(bootstrap=True, criterion='mse', max_depth=6,\n",
       "           max_features='auto', max_leaf_nodes=None,\n",
       "           min_impurity_decrease=0.0, min_impurity_split=None,\n",
       "           min_samples_leaf=1, min_samples_split=2,\n",
       "           min_weight_fraction_leaf=0.0, n_estimators=600, n_jobs=1,\n",
       "           oob_score=False, random_state=None, verbose=0, warm_start=False)"
      ]
     },
     "execution_count": 63,
     "metadata": {},
     "output_type": "execute_result"
    }
   ],
   "source": [
    "rf1.fit(X_train,Y_train)"
   ]
  },
  {
   "cell_type": "code",
   "execution_count": 64,
   "metadata": {},
   "outputs": [],
   "source": [
    "predicted_rf1=rf1.predict(X_test)"
   ]
  },
  {
   "cell_type": "code",
   "execution_count": 65,
   "metadata": {},
   "outputs": [
    {
     "data": {
      "text/plain": [
       "7.7422676713857905"
      ]
     },
     "execution_count": 65,
     "metadata": {},
     "output_type": "execute_result"
    }
   ],
   "source": [
    "mean_absolute_error(Y_test,predicted_rf1)"
   ]
  },
  {
   "cell_type": "code",
   "execution_count": 66,
   "metadata": {},
   "outputs": [
    {
     "data": {
      "text/plain": [
       "array([ 865.43194823,  200.78562011, 1034.24059126, ..., 2714.55074617,\n",
       "       1683.89192263, 2753.39777954])"
      ]
     },
     "execution_count": 66,
     "metadata": {},
     "output_type": "execute_result"
    }
   ],
   "source": [
    "predicted_rf1"
   ]
  },
  {
   "cell_type": "code",
   "execution_count": 68,
   "metadata": {},
   "outputs": [
    {
     "data": {
      "text/plain": [
       "[(858.696, 865.431948226525),\n",
       " (164.9324, 200.78562011008438),\n",
       " (1036.4646, 1034.2405912609124),\n",
       " (1105.042, 1107.976602515008),\n",
       " (2545.8332, 2549.9752414380664),\n",
       " (1529.8224, 1526.8687290073835),\n",
       " (1684.2879999999998, 1684.4350976055478),\n",
       " (3440.6684, 3438.104331172991),\n",
       " (1900.0072, 1905.2184525853734),\n",
       " (2138.3636, 2130.2349784826874),\n",
       " (3781.558, 3785.5160564106895),\n",
       " (1790.816, 1795.631969889382),\n",
       " (1327.4192, 1328.0457628854167),\n",
       " (3356.7776, 3353.7110642925372),\n",
       " (1007.8352, 997.8957720129159),\n",
       " (1902.6704, 1905.491950677508),\n",
       " (1421.297, 1421.9974382590958),\n",
       " (2030.504, 2034.489212207349),\n",
       " (2778.8632, 2775.056074076403),\n",
       " (3005.2352, 2995.1013096857628),\n",
       " (4055.8676, 4067.5059428387826),\n",
       " (302.753, 286.2845640697598),\n",
       " (961.895, 971.3590572834801),\n",
       " (433.9156, 430.54647754460217),\n",
       " (4768.2736, 4771.636019076435),\n",
       " (1162.9666, 1163.1572309930218),\n",
       " (1203.5804, 1203.5872846895256),\n",
       " (4346.1564, 4346.748303698005),\n",
       " (995.185, 991.6385852207193),\n",
       " (951.908, 950.0868761252756),\n",
       " (3848.138, 3854.7622286400833),\n",
       " (258.8102, 282.65399390165095),\n",
       " (3844.809, 3851.9070862698795),\n",
       " (832.064, 822.1799609056322),\n",
       " (1291.466, 1288.8799822566386),\n",
       " (424.5944, 430.54647754460217),\n",
       " (2666.343, 2669.1330734078333),\n",
       " (198.8882, 200.78562011008438),\n",
       " (1095.7208, 1102.3851201925504),\n",
       " (1083.7364, 1088.251898392571),\n",
       " (1427.2892, 1428.6712006196838),\n",
       " (807.4294, 812.1238133547457),\n",
       " (576.3968, 578.611143278394),\n",
       " (1053.7754, 1055.1643516989948),\n",
       " (2280.8448, 2271.907432144498),\n",
       " (746.8416, 736.561852937069),\n",
       " (2776.2, 2773.766142325709),\n",
       " (3384.7412, 3376.5687503617937),\n",
       " (951.908, 950.0868761252756),\n",
       " (3972.6426, 3973.341820150769),\n",
       " (3523.2276, 3534.2393233424673),\n",
       " (640.9794, 652.1064618717016),\n",
       " (4323.5192, 4329.799482520634),\n",
       " (900.6414, 898.3878891316467),\n",
       " (332.714, 348.7872115439178),\n",
       " (425.926, 430.54647754460217),\n",
       " (3701.662, 3698.247786255603),\n",
       " (2190.2960000000007, 2197.7268173696507),\n",
       " (1191.596, 1188.3274369237351),\n",
       " (830.7324, 822.1799609056322),\n",
       " (6258.334, 6271.327125532139),\n",
       " (665.6139999999998, 657.586532256052),\n",
       " (2019.8512, 2011.4491017827395),\n",
       " (5605.85, 5612.304328730077),\n",
       " (5182.4012, 5163.534198480491),\n",
       " (714.8832, 725.4473935320551),\n",
       " (1215.5648, 1217.8278385324052),\n",
       " (366.004, 353.23564038797105),\n",
       " (256.8128, 282.50412284526857),\n",
       " (3804.1952, 3812.976265136101),\n",
       " (4515.9354, 4521.008593978747),\n",
       " (2060.465, 2067.8782862754933),\n",
       " (1402.6546, 1401.2048449478282),\n",
       " (2515.2064, 2515.9747162679328),\n",
       " (1348.059, 1349.3302925999853),\n",
       " (374.6594, 355.8873939972639),\n",
       " (6587.2392, 6592.43978972643),\n",
       " (155.6112, 200.78562011008438),\n",
       " (6587.2392, 6592.43978972643),\n",
       " (3874.77, 3871.197365313919),\n",
       " (2970.6136, 2973.334987423469),\n",
       " (1123.6844, 1125.5992364160393),\n",
       " (2676.33, 2673.537254743298),\n",
       " (656.2928, 655.7236780624471),\n",
       " (2563.144, 2565.868932101232),\n",
       " (422.597, 430.54647754460217),\n",
       " (4978.6664, 4973.368803299424),\n",
       " (1324.756, 1325.5358396365361),\n",
       " (2807.4926, 2810.1134932594246),\n",
       " (1718.9096, 1716.3700398955057),\n",
       " (1714.249, 1711.1286139718693),\n",
       " (1201.583, 1198.6360232313336),\n",
       " (854.0354, 847.3731657607282),\n",
       " (4338.1668, 4342.642452000579),\n",
       " (262.1392, 282.65399390165095),\n",
       " (1263.5024, 1266.023500590357),\n",
       " (500.4956, 502.27367388552227),\n",
       " (2883.3938, 2879.237801828691),\n",
       " (6494.693, 6465.229013208258),\n",
       " (523.1328, 513.1791563866964),\n",
       " (1396.6624, 1393.9238868237815),\n",
       " (5386.136, 5396.223075883919),\n",
       " (1401.9888, 1401.2048449478282),\n",
       " (3228.9440000000004, 3220.0839089960673),\n",
       " (2625.7292, 2631.1960030002347),\n",
       " (1519.1696, 1520.272475831866),\n",
       " (1455.2528, 1452.5121628928318),\n",
       " (288.7712, 282.78571425377396),\n",
       " (2815.4822, 2813.5172775336528),\n",
       " (5942.7448, 5938.546619994079),\n",
       " (3298.853, 3301.6588555774315),\n",
       " (2339.4352, 2346.9647243687023),\n",
       " (236.173, 213.67400980691423),\n",
       " (2254.2128, 2252.306941845131),\n",
       " (2488.5744, 2486.2921773695707),\n",
       " (311.4084, 294.9506757837728),\n",
       " (3069.152, 3068.797922318768),\n",
       " (413.9416, 429.633033909251),\n",
       " (3035.1962, 3036.2523753241994),\n",
       " (3508.58, 3512.9447392733637),\n",
       " (1529.8224, 1526.8687290073835),\n",
       " (1231.544, 1231.1534672460964),\n",
       " (796.1108, 805.2706481117226),\n",
       " (1754.8628, 1754.6767553827542),\n",
       " (1343.3984, 1345.8947110005906),\n",
       " (6155.135, 6139.807767587274),\n",
       " (2925.3392, 2927.989262330987),\n",
       " (2186.3012, 2186.356232517492),\n",
       " (1797.474, 1804.5981249362187),\n",
       " (564.4124, 575.0486684463156),\n",
       " (1147.6532, 1145.7664288712228),\n",
       " (2961.9582, 2967.809019997722),\n",
       " (1826.7692, 1820.3615470239458),\n",
       " (2180.309, 2178.8752347731415),\n",
       " (560.4176, 573.6304911161375),\n",
       " (1362.0408, 1357.4270604818046),\n",
       " (3641.74, 3660.46835000673),\n",
       " (4009.2616, 4007.269851069401),\n",
       " (3680.3564, 3681.8977137553607),\n",
       " (215.5332, 201.15025579779507),\n",
       " (1150.3164, 1146.6984140874276),\n",
       " (2164.9956, 2167.086543853784),\n",
       " (5537.9384, 5540.007638007553),\n",
       " (652.298, 655.4918353366478),\n",
       " (2336.1062, 2342.496142372493),\n",
       " (1199.5856, 1198.2063859846646),\n",
       " (5693.7356, 5690.802860280882),\n",
       " (1471.2320000000002, 1467.1553439529712),\n",
       " (3109.1, 3108.01856645405),\n",
       " (2009.1984, 2001.6847513700552),\n",
       " (1479.2216, 1476.2585591902164),\n",
       " (3384.7412, 3376.5687503617937),\n",
       " (3589.1418, 3576.350856068735),\n",
       " (1892.0176, 1898.5114588765823),\n",
       " (880.0016, 888.0958589178355),\n",
       " (236.173, 213.67400980691423),\n",
       " (4247.618, 4250.226575042581),\n",
       " (998.514, 993.2131867329183),\n",
       " (1820.777, 1816.148595642255),\n",
       " (1555.7886, 1549.6058355158561),\n",
       " (1712.9174, 1709.1459099930992),\n",
       " (2549.828, 2556.59789566105),\n",
       " (2879.399000000001, 2874.8588005254737),\n",
       " (2977.2716, 2976.416529257591),\n",
       " (644.3084, 653.1207826627461),\n",
       " (2786.8528, 2789.3791371032066),\n",
       " (3414.7022, 3417.3182479734983),\n",
       " (4067.852, 4071.531247398458),\n",
       " (2519.867, 2515.9747162679328),\n",
       " (998.514, 993.2131867329183),\n",
       " (581.7232, 578.9930883330989),\n",
       " (718.878, 727.6092097033423),\n",
       " (1119.6896, 1118.8728752908046),\n",
       " (6209.0648, 6178.094171040386),\n",
       " (3830.8272, 3836.250235739313),\n",
       " (3904.0652, 3899.121369147934),\n",
       " (6314.927, 6301.8499172496995),\n",
       " (2119.7212, 2119.9289155630686),\n",
       " (1804.7978, 1809.769564294191),\n",
       " (3451.987, 3455.480738460014),\n",
       " (752.168, 740.686181161254),\n",
       " (396.6308, 404.77375082486685),\n",
       " (3151.0454, 3153.0384819100905),\n",
       " (1401.323, 1401.2048449478282),\n",
       " (6544.6280000000015, 6565.49299095743),\n",
       " (409.9468, 427.80744083612996),\n",
       " (1802.8004, 1807.6643062385363),\n",
       " (1780.829, 1778.646547134063),\n",
       " (4989.985, 4973.368803299424),\n",
       " (688.2512, 678.1316577661519),\n",
       " (3599.1288, 3590.5768272823507),\n",
       " (4842.8432, 4843.808445646222),\n",
       " (2365.4014, 2365.938788466652),\n",
       " (1631.024, 1630.1705784746941),\n",
       " (2716.278, 2707.971000360889),\n",
       " (3264.8972, 3257.224129489467),\n",
       " (1279.4816, 1274.9168467219774),\n",
       " (1271.492, 1272.1768395541112),\n",
       " (4874.8016, 4868.739873602356),\n",
       " (2797.5056, 2800.2387091520336),\n",
       " (427.2576, 430.54647754460217),\n",
       " (628.3292, 643.9039098469583),\n",
       " (202.2172, 200.78562011008438),\n",
       " (1697.604, 1692.6328643533795),\n",
       " (2690.9776, 2686.6222211870304),\n",
       " (182.2432, 200.78562011008438),\n",
       " (1982.5664, 1985.3936016085884),\n",
       " (2195.6224, 2207.343853111615),\n",
       " (4007.93, 4006.808730858302),\n",
       " (2965.2872, 2972.001485881823),\n",
       " (1990.556, 1989.5374527278198),\n",
       " (416.6048, 430.28841085879867),\n",
       " (2302.1504, 2297.3597298300756),\n",
       " (2449.958, 2452.906361471836),\n",
       " (2981.2664, 2979.218566977564),\n",
       " (5304.2426, 5331.733359558249),\n",
       " (3541.2042, 3539.7412794969105),\n",
       " (1718.9096, 1716.3700398955057),\n",
       " (1604.392, 1605.1884039581662),\n",
       " (891.9860000000001, 895.4115064890283),\n",
       " (3950.0054, 3945.4858842727012),\n",
       " (6498.022, 6467.877873853682),\n",
       " (3119.087, 3117.148306579702),\n",
       " (999.8456, 993.3495748541302),\n",
       " (233.5098, 211.17025762086885),\n",
       " (4278.2448, 4271.496419241957),\n",
       " (660.2876, 656.2033710613027),\n",
       " (718.878, 727.6092097033423),\n",
       " (826.0718, 820.6497382956773),\n",
       " (332.714, 348.7872115439178),\n",
       " (814.7532, 815.4760909653627),\n",
       " (1563.1124, 1558.416585319792),\n",
       " (1730.894, 1726.6259978102628),\n",
       " (545.77, 552.7523888005727),\n",
       " (1215.5648, 1217.8278385324052),\n",
       " (4595.1656, 4598.872656651153),\n",
       " (1095.7208, 1102.3851201925504),\n",
       " (1960.595, 1957.9653380097623),\n",
       " (3170.3536, 3174.7897004012616),\n",
       " (4756.955, 4767.27976454348),\n",
       " (466.5398, 457.30941676662974),\n",
       " (6177.1064, 6154.838381029885),\n",
       " (444.5684, 432.7711939791404),\n",
       " (1071.752, 1072.0555399352486),\n",
       " (440.5736, 431.68254884133194),\n",
       " (560.4176, 573.6304911161375),\n",
       " (1091.726, 1098.499802910237),\n",
       " (4319.5244, 4329.1061169449795),\n",
       " (897.9782, 897.115730554637),\n",
       " (928.605, 917.8461521225715),\n",
       " (2667.0088, 2669.289261737866),\n",
       " (5351.5144, 5376.324178644611),\n",
       " (1748.8706, 1749.692806999473),\n",
       " (188.9012, 200.78562011008438),\n",
       " (439.242, 431.13395747485936),\n",
       " (1601.063, 1601.9071390597542),\n",
       " (5653.7876, 5638.372576073233),\n",
       " (1220.8912, 1221.6846880930295),\n",
       " (3477.9532, 3481.259533855988),\n",
       " (2263.534, 2260.431729100616),\n",
       " (866.6856, 882.9075332963663),\n",
       " (636.3188, 650.0493212088514),\n",
       " (1264.1682, 1266.023500590357),\n",
       " (501.1614, 502.27367388552227),\n",
       " (572.4019999999998, 577.5498093386858),\n",
       " (278.7842, 282.65399390165095),\n",
       " (691.5802, 682.737589889147),\n",
       " (1359.3776, 1355.746112535937),\n",
       " (517.8064, 504.4674473725128),\n",
       " (1233.5414, 1231.93750432735),\n",
       " (3482.6138, 3483.928125424465),\n",
       " (3549.1938, 3541.523189461038),\n",
       " (2207.6068, 2210.323307803029),\n",
       " (2839.451, 2838.0728854659815),\n",
       " (858.696, 865.431948226525),\n",
       " (2853.4328, 2861.9181333165707),\n",
       " (2896.044000000001, 2896.776183637342),\n",
       " (3584.4812, 3570.4289349805968),\n",
       " (545.77, 552.7523888005727),\n",
       " (1321.427, 1322.7311518263448),\n",
       " (2657.6876, 2665.513609481731),\n",
       " (312.74, 295.9099603602797),\n",
       " (3487.2744, 3490.3026182148697),\n",
       " (5078.5364, 5092.594659487709),\n",
       " (294.0976, 283.2525395115919),\n",
       " (3676.3616, 3678.437004388944),\n",
       " (2214.9306, 2213.586602063629),\n",
       " (1263.5024, 1266.023500590357),\n",
       " (3263.5656, 3256.8216103174636),\n",
       " (6025.304, 6041.912002289519),\n",
       " (3465.303, 3470.348829741645),\n",
       " (2433.9788, 2435.261749672458),\n",
       " (700.2356, 708.4995421702774),\n",
       " (2777.5316, 2774.326479669837),\n",
       " (2216.928, 2215.6501019898924),\n",
       " (2749.568, 2753.397779538132),\n",
       " (4492.6324, 4500.937834381572),\n",
       " (7565.9652, 7636.2153306109585),\n",
       " (597.7024, 586.0993109370039),\n",
       " (821.4112, 818.1281662502997),\n",
       " (3226.2808, 3219.02009671826),\n",
       " (1023.8144, 1025.2473185030765),\n",
       " (1011.83, 1005.3235484091376),\n",
       " (704.8962, 714.9255967476698),\n",
       " (1716.9122, 1715.1730967668846),\n",
       " (3624.4292, 3635.2393604921385),\n",
       " (5147.7796, 5139.192954034034),\n",
       " (696.2408, 704.6122050527655),\n",
       " (342.701, 352.193302834803),\n",
       " (741.5152, 734.1478245956106),\n",
       " (2134.3688, 2129.1122578870454),\n",
       " (3524.5592, 3534.2393233424673),\n",
       " (3718.307, 3716.0643358668904),\n",
       " (665.6139999999998, 657.586532256052),\n",
       " (500.4956, 502.27367388552227),\n",
       " (2406.0152, 2396.154340436698),\n",
       " (5239.66, 5249.013572274448),\n",
       " (545.77, 552.7523888005727),\n",
       " (891.9860000000001, 895.4115064890283),\n",
       " (3477.9532, 3481.259533855988),\n",
       " (1338.072, 1341.6112244070796),\n",
       " (2489.906, 2486.452372419403),\n",
       " (5063.8888, 5081.488619854671),\n",
       " (2280.179, 2271.3947794342366),\n",
       " (3961.324, 3956.5109236227954),\n",
       " (492.506, 501.46521848418905),\n",
       " (790.1186, 799.3944762304966),\n",
       " (226.8518, 202.5454201737007),\n",
       " (3957.995, 3956.5109236227954),\n",
       " (1038.462, 1039.5469716055973),\n",
       " (504.4904, 502.5240801545287),\n",
       " (5825.564, 5838.335803020468),\n",
       " (452.55800000000005, 439.3541235042951),\n",
       " (305.4162, 288.11639525216077),\n",
       " (2040.491, 2039.346542366509),\n",
       " (1788.1528, 1793.0443834560128),\n",
       " (444.5684, 432.7711939791404),\n",
       " (1324.756, 1325.5358396365361),\n",
       " (3723.6334, 3720.009562081251),\n",
       " (4769.6052, 4772.6942109552465),\n",
       " (330.0508, 348.43057595896977),\n",
       " (3908.06, 3902.640906598141),\n",
       " (3149.048, 3152.0459135563992),\n",
       " (977.2084, 980.1450838565153),\n",
       " (217.5306, 201.26535656445506),\n",
       " (1281.479, 1275.7595649975237),\n",
       " (1252.1838, 1254.4962137404848),\n",
       " (887.9912, 891.9440116771658),\n",
       " (10419.584, 10121.752370329128),\n",
       " (3974.64, 3975.741208952133),\n",
       " (2521.8644, 2517.3932778165868),\n",
       " (485.848, 498.2020951298087),\n",
       " (3895.4098, 3884.7423947866214),\n",
       " (3250.2496, 3248.322721784058),\n",
       " (2829.4640000000004, 2828.3990071319213),\n",
       " (396.6308, 404.77375082486685),\n",
       " (6836.2484, 6832.101520276225),\n",
       " (1120.3554, 1118.8728752908046),\n",
       " (416.6048, 430.28841085879867),\n",
       " (2896.044000000001, 2896.776183637342),\n",
       " (4270.2552, 4267.171772534112),\n",
       " (2797.5056, 2800.2387091520336),\n",
       " (3188.996, 3198.109418957485),\n",
       " (2499.2272, 2496.5631925607217),\n",
       " (3788.216, 3791.796380060905),\n",
       " (2731.5914, 2731.4206242012115),\n",
       " (2097.7498, 2094.290702098539),\n",
       " (5656.4508, 5641.618547788644),\n",
       " (5635.811, 5625.671256108995),\n",
       " (1495.2008, 1502.1805350903023),\n",
       " (4515.2696, 4518.932635712778),\n",
       " (3268.8920000000007, 3261.129868149517),\n",
       " (1686.9512, 1685.1218303659773),\n",
       " (3622.4318, 3613.8408165475953),\n",
       " (3216.9596, 3207.9771270541787),\n",
       " (4957.3608, 4950.428665956421),\n",
       " (274.7894, 282.65399390165095),\n",
       " (1631.024, 1630.1705784746941),\n",
       " (3286.8686, 3292.1603159314163),\n",
       " (409.281, 427.4141863737421),\n",
       " (1629.0266, 1629.7243877744206),\n",
       " (288.1054, 282.78571425377396),\n",
       " (4958.0266, 4950.428665956421),\n",
       " (5495.993, 5480.2466469278515),\n",
       " (2415.3364, 2412.6536348104637),\n",
       " (1764.184, 1767.4515061085606),\n",
       " (1722.9044, 1719.2834043261569),\n",
       " (2041.1568, 2040.3311284132644),\n",
       " (2303.482, 2297.5404237047596),\n",
       " (705.562, 715.7445313332261),\n",
       " (1497.864, 1503.4425047019954),\n",
       " (1506.5194, 1513.4140244735067),\n",
       " (1716.9122, 1715.1730967668846),\n",
       " (1111.7, 1113.4952235959631),\n",
       " (858.696, 865.431948226525),\n",
       " (3440.6684, 3438.104331172991),\n",
       " (288.1054, 282.78571425377396),\n",
       " (192.2302, 200.78562011008438),\n",
       " (821.4112, 818.1281662502997),\n",
       " (2512.5432, 2513.0120788638014),\n",
       " (891.9860000000001, 895.4115064890283),\n",
       " (2587.7786, 2582.4076947083045),\n",
       " (562.415, 574.6507730285176),\n",
       " (371.9962, 353.876318809676),\n",
       " (4427.384, 4415.998614164499),\n",
       " (4762.9472, 4770.5419833313135),\n",
       " (492.506, 501.46521848418905),\n",
       " (2975.94, 2976.416529257591),\n",
       " (630.9924, 644.827133763961),\n",
       " (2302.1504, 2297.3597298300756),\n",
       " (706.2278, 716.3968833990872),\n",
       " (464.5424, 454.6949701458337),\n",
       " (3002.572, 2993.0114336513648),\n",
       " (2214.2648, 2213.3214159543304),\n",
       " (4135.7636, 4130.90378589291),\n",
       " (262.805, 282.65399390165095),\n",
       " (1212.2358, 1214.6745299922109),\n",
       " (8526.0488, 8387.621808253187),\n",
       " (3262.234000000001, 3256.2545521762177),\n",
       " (3147.0506, 3151.456362219865),\n",
       " (579.06, 578.8598899972757),\n",
       " (3312.169000000001, 3316.3501105328974),\n",
       " (342.0352, 352.0509048330769),\n",
       " (3384.7412, 3376.5687503617937),\n",
       " (3044.5174, 3041.585154086684),\n",
       " (752.168, 740.686181161254),\n",
       " (3681.688, 3681.8977137553607),\n",
       " (5006.63, 5036.057605235489),\n",
       " (284.7764, 282.78571425377396),\n",
       " (2222.2544, 2218.3317927651347),\n",
       " (672.2719999999998, 661.2240155435255),\n",
       " (4464.6688, 4471.171626728676),\n",
       " (945.9158, 943.7615795667873),\n",
       " (2984.5954, 2980.097186520569),\n",
       " (204.8804, 200.78562011008438),\n",
       " (5693.0698, 5690.394835613276),\n",
       " (306.082, 289.2873402686513),\n",
       " (148.2874, 200.78562011008438),\n",
       " (2603.092, 2601.1399197427218),\n",
       " (1453.2554, 1452.372370489379),\n",
       " (2350.088, 2360.985320718748),\n",
       " (1299.4556, 1297.8508172935792),\n",
       " (1982.5664, 1985.3936016085884),\n",
       " (512.48, 503.4250996121272),\n",
       " (265.4682, 282.65399390165095),\n",
       " (3327.4824, 3325.559323369767),\n",
       " (1194.925, 1193.8848846313838),\n",
       " (6404.81, 6408.733412251979),\n",
       " (2653.6928, 2664.469000059683),\n",
       " (1754.197, 1754.3489963465847),\n",
       " (2778.8632, 2775.056074076403),\n",
       " (481.8532, 495.43937840229745),\n",
       " (4742.9732, 4735.405647069284),\n",
       " (803.4346, 810.2321249752199),\n",
       " (5292.924, 5319.2403720735665),\n",
       " (2405.3494, 2396.154340436698),\n",
       " (5947.4054, 5942.116359623335),\n",
       " (2700.9646, 2694.7026187829806),\n",
       " (637.6504, 651.857902744452),\n",
       " (938.592, 936.6942952058516),\n",
       " (2090.426, 2087.160648457661),\n",
       " (1135.6688, 1135.3716631253462),\n",
       " (760.1576, 749.6664145698871),\n",
       " (823.4086, 819.4717387160116),\n",
       " (2861.4224, 2864.8043911353493),\n",
       " (2416.668, 2413.124861019234),\n",
       " (4051.8728, 4065.734857334328),\n",
       " (4403.4152, 4391.996888190123),\n",
       " (2893.3808, 2893.361018212233),\n",
       " (2544.5016, 2549.8118907877383),\n",
       " (505.822, 502.6872738649752),\n",
       " (489.8428, 500.5797270687189),\n",
       " (665.6139999999998, 657.586532256052),\n",
       " (1631.024, 1630.1705784746941),\n",
       " (3974.64, 3975.741208952133),\n",
       " (760.1576, 749.6664145698871),\n",
       " (5838.88, 5852.299537092896),\n",
       " (4414.068, 4402.8363759578515),\n",
       " (1684.2879999999998, 1684.4350976055478),\n",
       " (1874.7068, 1875.8891035248064),\n",
       " (492.506, 501.46521848418905),\n",
       " (5794.2714, 5806.8544784440155),\n",
       " (3528.554, 3534.9380452914916),\n",
       " (997.1824, 992.5729613954351),\n",
       " (1503.1904, 1509.2763951482743),\n",
       " (5430.0788, 5416.85369807923),\n",
       " (589.047, 580.7477136398259),\n",
       " (1358.046, 1355.4783140757254),\n",
       " (240.8336, 224.37442858733945),\n",
       " (2869.4120000000007, 2868.6618256318798),\n",
       " (1532.4856, 1527.1685167285007),\n",
       " (369.333, 353.4900959392153),\n",
       " (5828.2272, 5838.816402014793),\n",
       " (2203.612, 2209.8767482767917),\n",
       " (1725.5676, 1721.009991512751),\n",
       " (1780.829, 1778.646547134063),\n",
       " (3538.541, 3539.5522455901123),\n",
       " (914.6232, 906.3771333013615),\n",
       " (3503.2536, 3506.5144028696386),\n",
       " (2997.2456, 2991.80559572773),\n",
       " (975.211, 978.8294896170854),\n",
       " (1561.115, 1554.3381644847957),\n",
       " (1768.1788, 1771.4615454863513),\n",
       " (1946.6132, 1947.2159900797963),\n",
       " (4986.656, 4973.368803299424),\n",
       " (186.238, 200.78562011008438),\n",
       " (933.2656, 928.3876703178965),\n",
       " (849.3748, 839.6002899946826),\n",
       " (1143.6584, 1142.9649195927518),\n",
       " (1972.5794, 1974.171431364508),\n",
       " (2629.724, 2638.606059540719),\n",
       " (270.1288, 282.65399390165095),\n",
       " (1370.0304, 1369.550734557497),\n",
       " (4067.852, 4071.531247398458),\n",
       " (3804.1952, 3812.976265136101),\n",
       " (6414.1312, 6412.832761828971),\n",
       " (469.8688, 465.5827163761638),\n",
       " (4691.0408, 4682.986963192543),\n",
       " (375.991, 356.5292590035839),\n",
       " (905.302, 898.8610844557079),\n",
       " (7263.691999999999, 7279.063854104859),\n",
       " (1561.7808, 1554.467607878132),\n",
       " (696.2408, 704.6122050527655),\n",
       " (1227.5492, 1228.2312987848777),\n",
       " (887.9912, 891.9440116771658),\n",
       " (291.4344, 283.2525395115919),\n",
       " (307.4136, 290.85940654610886),\n",
       " (7213.757, 7246.285399804232),\n",
       " (4016.5854, 4018.8408700991017),\n",
       " (1551.128, 1545.6042150762926),\n",
       " (3436.0078, 3436.2955137700123),\n",
       " (2083.768, 2085.01524446881),\n",
       " (2858.0934, 2864.5947097902067),\n",
       " (1097.7182, 1103.7918484333127),\n",
       " (4149.7454, 4140.242949341389),\n",
       " (1101.0472, 1104.4353326203202),\n",
       " (3993.2824, 3991.207498629469),\n",
       " (421.9312, 430.54647754460217),\n",
       " (2077.11, 2082.408438633198),\n",
       " (4668.4036, 4679.411825751434),\n",
       " (543.1068, 538.6263718166949),\n",
       " (4555.2176, 4539.639385716929),\n",
       " (720.8754, 728.0024965258175),\n",
       " (465.874, 457.07414903505054),\n",
       " (3741.61, 3731.138546120373),\n",
       " (304.7504, 287.430054085113),\n",
       " (560.4176, 573.6304911161375),\n",
       " (1674.9668, 1680.6196624398513),\n",
       " (4009.2616, 4007.269851069401),\n",
       " (857.3644, 860.9658810475564),\n",
       " (5561.9072, 5562.454581769117),\n",
       " (2258.2076, 2256.158043961425),\n",
       " (3237.5994, 3235.122579617175),\n",
       " (779.4658, 786.6100504312296),\n",
       " (1071.752, 1072.0555399352486),\n",
       " (4251.6128, 4250.468121493016),\n",
       " (1047.7832, 1050.9194449419015),\n",
       " (816.0848, 815.6023286199576),\n",
       " (6057.2624, 6065.177635772008),\n",
       " (1231.544, 1231.1534672460964),\n",
       " (1951.2738, 1951.42813578127),\n",
       " (2479.919, 2479.9864975643827),\n",
       " (3338.1352, 3337.444633076196),\n",
       " (662.285, 656.8385214306185),\n",
       " (1541.141, 1538.2261381511787),\n",
       " (1383.3464, 1382.1973239842782),\n",
       " (6985.3876, 6968.5560085194065),\n",
       " (3676.3616, 3678.437004388944),\n",
       " (1247.5232, 1249.8607841407088),\n",
       " (1870.712, 1870.1453243324474),\n",
       " (4210.3332, 4206.515434634356),\n",
       " (1638.3478, 1634.774317538129),\n",
       " (5803.5926, 5808.771907515774),\n",
       " (1383.3464, 1382.1973239842782),\n",
       " (3532.5488, 3535.637219745379),\n",
       " (718.878, 727.6092097033423),\n",
       " (640.9794, 652.1064618717016),\n",
       " (10349.675, 10009.316530535749),\n",
       " (421.9312, 430.54647754460217),\n",
       " (898.6439999999999, 897.115730554637),\n",
       " (501.1614, 502.27367388552227),\n",
       " (2648.3664, 2653.9430145995652),\n",
       " (2276.1842, 2266.0685373376787),\n",
       " (490.5086, 500.5797270687189),\n",
       " (2519.867, 2515.9747162679328),\n",
       " (2387.3728, 2387.8296806774324),\n",
       " (1742.8784, 1738.6504127414646),\n",
       " (149.619, 200.78562011008438),\n",
       " (4853.496, 4851.674672199701),\n",
       " (2975.94, 2976.416529257591),\n",
       " (1519.1696, 1520.272475831866),\n",
       " (5496.6588, 5480.2466469278515),\n",
       " (680.2616, 668.7554814114281),\n",
       " (256.8128, 282.50412284526857),\n",
       " (5503.3168, 5483.398355787552),\n",
       " (3804.1952, 3812.976265136101),\n",
       " (5609.8448, 5615.581439826528),\n",
       " (3451.987, 3455.480738460014),\n",
       " (2232.9072, 2228.160926190266),\n",
       " (1375.3568, 1371.835408886218),\n",
       " (4094.484, 4091.9667356215627),\n",
       " (1171.622, 1171.7516641953641),\n",
       " (4717.6728, 4702.462113262864),\n",
       " (1247.5232, 1249.8607841407088),\n",
       " (1660.3192, 1662.749555071403),\n",
       " (4041.8858, 4052.6414992201026),\n",
       " (652.298, 655.4918353366478),\n",
       " (2368.7304, 2369.452471918233),\n",
       " (2881.3964, 2878.5054030725723),\n",
       " (720.2096, 727.8751373015676),\n",
       " (2443.9658, 2449.071243033461),\n",
       " (3468.632, 3470.995223193108),\n",
       " (616.3448, 609.4726657933332),\n",
       " (7538.0016, 7501.939613627981),\n",
       " (1018.488, 1020.3744324407529),\n",
       " (3591.805, 3576.350856068735),\n",
       " (4697.6988, 4684.313360820886),\n",
       " (259.476, 282.65399390165095),\n",
       " (1682.9564, 1684.4350976055478),\n",
       " (2222.2544, 2218.3317927651347),\n",
       " (824.0744, 819.4717387160116),\n",
       " (4476.6532, 4484.146251198574),\n",
       " (954.5712, 956.5050429241347),\n",
       " (2882.728, 2879.043194514623),\n",
       " (3106.4368, 3101.8373101853913),\n",
       " (2853.4328, 2861.9181333165707),\n",
       " (284.7764, 282.78571425377396),\n",
       " (307.4136, 290.85940654610886),\n",
       " (375.3252, 356.40140286999195),\n",
       " (2354.0828, 2362.8532807203505),\n",
       " (3079.139, 3078.5508247182834),\n",
       " (3049.178, 3046.7231063578024),\n",
       " (1697.604, 1692.6328643533795),\n",
       " (298.7582, 284.2902040197489),\n",
       " (950.5764, 948.5079920763413),\n",
       " (1105.042, 1107.976602515008),\n",
       " (656.2928, 655.7236780624471),\n",
       " (3538.541, 3539.5522455901123),\n",
       " (5705.72, 5703.079404511636),\n",
       " (4920.7418, 4921.153632649239),\n",
       " (926.6076, 917.8461521225715),\n",
       " (308.7452, 293.3635784922185),\n",
       " (1846.7432, 1842.6905081193397),\n",
       " (709.5568, 719.8021888268806),\n",
       " (529.125, 520.3018115295536),\n",
       " (573.7336, 578.0866694829947),\n",
       " (3758.255, 3744.7603384352833),\n",
       " (2699.633, 2694.7026187829806),\n",
       " (1800.1372, 1804.5981249362187),\n",
       " (573.7336, 578.0866694829947),\n",
       " (188.9012, 200.78562011008438),\n",
       " (2155.6744, 2159.6132915907283),\n",
       " (409.9468, 427.80744083612996),\n",
       " (3785.5528, 3790.2157251794224),\n",
       " (7759.0472, 7770.870533677369),\n",
       " (2168.9904, 2173.5807799109884),\n",
       " (557.7544, 572.6089756600782),\n",
       " (816.0848, 815.6023286199576),\n",
       " (3818.177, 3822.089788768724),\n",
       " (1850.738, 1850.145107049025),\n",
       " (1641.011, 1640.0765923858996),\n",
       " (332.0482, 348.67365072663557),\n",
       " (251.4864, 282.3563165872691),\n",
       " (1958.5976, 1957.9653380097623),\n",
       " (1210.9042, 1213.6481033100101),\n",
       " (1087.0654, 1091.0777633193497),\n",
       " (2886.057, 2879.9600074407367),\n",
       " (536.4488, 530.1324309869634),\n",
       " (1766.8472, 1770.703221131493),\n",
       " (1921.9786, 1918.772367779888),\n",
       " (1730.894, 1726.6259978102628),\n",
       " (969.8846, 975.26762429697),\n",
       " (668.2772, 658.9294691480125),\n",
       " (2546.499, 2549.9752414380664),\n",
       " (565.744, 575.440781986684),\n",
       " (2648.3664, 2653.9430145995652),\n",
       " (1856.0644, 1857.300132163564),\n",
       " (320.7296, 315.95724468440625),\n",
       " (1252.8496, 1255.0306566341583),\n",
       " (2346.0932, 2357.7935465494684),\n",
       " (2168.9904, 2173.5807799109884),\n",
       " (832.064, 822.1799609056322),\n",
       " (6067.2494, 6070.858763877037),\n",
       " (4963.353, 4961.158182519021),\n",
       " (6872.2016, 6892.4404704614635),\n",
       " (6422.7866, 6416.122548099573),\n",
       " (1732.2256, 1726.6259978102628),\n",
       " (1018.488, 1020.3744324407529),\n",
       " (5978.0322, 5988.418986037415),\n",
       " (306.7478, 289.5262192875404),\n",
       " (732.194, 731.6107857037294),\n",
       " (5564.5704, 5563.127147295454),\n",
       " (2523.8618, 2517.3932778165868),\n",
       " (3010.5616, 3002.902530828481),\n",
       " (3089.7918, 3089.631455429086),\n",
       " (744.8442, 736.4324072712105),\n",
       " (6523.3224, 6546.406748392981),\n",
       " (2073.781, 2077.033290786879),\n",
       " (2523.8618, 2517.3932778165868),\n",
       " (1820.777, 1816.148595642255),\n",
       " (432.584, 430.54647754460217),\n",
       " (1307.4452, 1307.8771830621877),\n",
       " (6687.775, 6719.958077084966),\n",
       " (1790.816, 1795.631969889382),\n",
       " (5582.547, 5588.105273300039),\n",
       " (1338.072, 1341.6112244070796),\n",
       " (2352.0854, 2362.150822000461),\n",
       " (856.0328, 858.8314005155434),\n",
       " (2190.2960000000007, 2197.7268173696507),\n",
       " (933.2656, 928.3876703178965),\n",
       " (1231.544, 1231.1534672460964),\n",
       " (752.168, 740.686181161254),\n",
       " (4640.44, 4646.392012205924),\n",
       " (468.5372, 458.84261207101014),\n",
       " (267.4656, 282.65399390165095),\n",
       " (1455.2528, 1452.5121628928318),\n",
       " (1846.7432, 1842.6905081193397),\n",
       " (3142.39, 3143.884955152628),\n",
       " (5266.292, 5259.440153313576),\n",
       " (2182.3064, 2180.999413751414),\n",
       " (2532.5172, 2534.161956648042),\n",
       " (5147.7796, 5139.192954034034),\n",
       " (2546.499, 2549.9752414380664),\n",
       " (468.5372, 458.84261207101014),\n",
       " (2917.3496, 2924.955399683069),\n",
       " (579.06, 578.8598899972757),\n",
       " (429.9208, 430.54647754460217),\n",
       " (854.0354, 847.3731657607282),\n",
       " (979.8716, 981.8000709042929),\n",
       " (242.1652, 237.37397024645452),\n",
       " (272.79200000000003, 282.65399390165095),\n",
       " (1111.7, 1113.4952235959631),\n",
       " (1343.3984, 1345.8947110005906),\n",
       " (2372.0594, 2371.609786642423),\n",
       " (2573.7968, 2572.0704504447203),\n",
       " (4958.0266, 4950.428665956421),\n",
       " (698.904, 707.7105831434064),\n",
       " (2987.9244, 2982.913789687894),\n",
       " (5197.0488, 5180.309710910462),\n",
       " (1604.392, 1605.1884039581662),\n",
       " (1720.2412, 1717.0816452643792),\n",
       " (536.4488, 530.1324309869634),\n",
       " (1417.9679999999996, 1418.4777033805292),\n",
       " (566.4098, 575.440781986684),\n",
       " (2364.0698, 2365.8043024623507),\n",
       " (3541.2042, 3539.7412794969105),\n",
       " (420.5996, 430.54647754460217),\n",
       " (1710.92, 1706.9836313818598),\n",
       " (526.4618, 515.5725265758219),\n",
       " (868.0172, 882.9075332963663),\n",
       " (702.2330000000002, 711.7258420710856),\n",
       " (4476.6532, 4484.146251198574),\n",
       " (914.6232, 906.3771333013615),\n",
       " (998.514, 993.2131867329183),\n",
       " (3228.9440000000004, 3220.0839089960673),\n",
       " (1860.725, 1859.2258668190036),\n",
       " (393.9676, 401.37722124099935),\n",
       " (1682.9564, 1684.4350976055478),\n",
       " (3706.3226, 3700.902782679679),\n",
       " (2484.5796, 2483.9974710129823),\n",
       " (3804.1952, 3812.976265136101),\n",
       " (5146.448, 5139.192954034034),\n",
       " (1431.284, 1432.802759417713),\n",
       " (5351.5144, 5376.324178644611),\n",
       " (3870.7752, 3866.6524035163075),\n",
       " (233.5098, 211.17025762086885),\n",
       " (909.9626, 902.1488325619924),\n",
       " (3272.8868, 3269.2432496614674),\n",
       " (1641.011, 1640.0765923858996),\n",
       " (3698.333, 3691.310841870359),\n",
       " (7083.926, 7076.647266260013),\n",
       " (622.337, 628.7311695979055),\n",
       " (1583.0864, 1586.8847745339713),\n",
       " (1838.7536, 1831.8291640713958),\n",
       " (1236.2046, 1239.1962384417345),\n",
       " (1734.8888, 1727.7433501109651),\n",
       " (835.393, 823.2569574358974),\n",
       " (1907.331, 1907.4839958234163),\n",
       " (416.6048, 430.28841085879867),\n",
       " (3208.97, 3204.7429902758367),\n",
       " (9484.8008, 9390.077093266305),\n",
       " (2356.746, 2363.6811975697897),\n",
       " (2500.5588, 2498.660121357771),\n",
       " (2360.075, 2364.393230856923),\n",
       " (2062.4624, 2067.8782862754933),\n",
       " (366.004, 353.23564038797105),\n",
       " (1647.0032, 1648.9887597925328),\n",
       " (3532.5488, 3535.637219745379),\n",
       " (560.4176, 573.6304911161375),\n",
       " (302.753, 286.2845640697598),\n",
       " (4259.6024, 4258.6026693264475),\n",
       " (3512.5748, 3516.4327506402556),\n",
       " (4806.89, 4814.99051831128),\n",
       " (3516.5696, 3521.4736808734715),\n",
       " (3126.4108, 3126.3500986852882),\n",
       " (701.5672, 711.5895019348505),\n",
       " (9364.9568, 9760.93911961661),\n",
       " (2811.4874, 2810.1134932594246),\n",
       " (1271.492, 1272.1768395541112),\n",
       " (2461.9424, 2465.8717467366946),\n",
       " (1878.7016, 1879.8768444312957),\n",
       " (782.1289999999998, 791.0941337318163),\n",
       " (3117.0896, 3115.159766340315),\n",
       " (1261.505, 1263.842172190769),\n",
       " (4459.3424, 4470.164518889901),\n",
       " (3455.316, 3455.480738460014),\n",
       " (970.5504, 975.26762429697),\n",
       " (2406.0152, 2396.154340436698),\n",
       " (2699.633, 2694.7026187829806),\n",
       " (263.4708, 282.65399390165095),\n",
       " (3948.008, 3945.4858842727012),\n",
       " (616.3448, 609.4726657933332),\n",
       " (3790.2134, 3795.715672858931),\n",
       " (991.856, 988.7723061310617),\n",
       " (2808.1584, 2810.1134932594246),\n",
       " (983.8664, 985.2631543252844),\n",
       " (997.1824, 992.5729613954351),\n",
       " (1156.9744, 1151.0400869264336),\n",
       " (4232.9704, 4231.629937787342),\n",
       " (4300.2162, 4299.793385694715),\n",
       " (1508.5168, 1515.4235837072106),\n",
       " (2629.724, 2638.606059540719),\n",
       " (758.1602, 747.221921377052),\n",
       " (2441.9684, 2448.13417534365),\n",
       " (528.4592, 519.6749951266884),\n",
       " (384.6464, 375.7020640921187),\n",
       " (2825.4692, 2826.370581881937),\n",
       " (192.896, 200.78562011008438),\n",
       " (1387.3412, 1389.9075633696548),\n",
       " (1119.6896, 1118.8728752908046),\n",
       " (1637.0162, 1634.064100709538),\n",
       " (2073.1152, 2077.033290786879),\n",
       " (921.947, 911.656070233273),\n",
       " (3444.6632, 3440.08025909721),\n",
       " (3628.424, 3636.873283585427),\n",
       " (532.4540000000002, 524.9580915047445),\n",
       " (614.3474, 604.6720853941478),\n",
       " (6115.8528, 6118.845397033724),\n",
       " (3790.2134, 3795.715672858931),\n",
       " (326.056, 337.7051721862597),\n",
       " (1449.9264, 1449.0525657972155),\n",
       " (1079.7416, 1081.2646442190826),\n",
       " (3398.723, 3399.092190835874),\n",
       " (3645.7348, 3661.9243999928312),\n",
       " (2258.2076, 2256.158043961425),\n",
       " (619.008, 612.5389857370111),\n",
       " (1058.436, 1061.0357825832157),\n",
       " (496.5008, 502.12920367795925),\n",
       " (1878.0358, 1879.0776798852862),\n",
       " (1635.0188, 1633.2248637871926),\n",
       " (1799.4714, 1804.5981249362187),\n",
       " (1800.1372, 1804.5981249362187),\n",
       " (611.0184, 600.0261755967016),\n",
       " (1011.83, 1005.3235484091376),\n",
       " (1117.0264, 1116.3682062979178),\n",
       " (3445.329, 3448.6374153536563),\n",
       " (849.3748, 839.6002899946826),\n",
       " (6842.9064, 6872.253342913489),\n",
       " (1393.9992, 1392.9275918149056),\n",
       " (1871.3778, 1870.1453243324474),\n",
       " (1119.6896, 1118.8728752908046),\n",
       " (698.904, 707.7105831434064),\n",
       " (355.3512, 352.31852579796083),\n",
       " (300.7556, 284.66017285259494),\n",
       " (4037.891, 4050.7864567263528),\n",
       " (890.6544, 894.6698150635262),\n",
       " (1248.189, 1249.8607841407088),\n",
       " (287.4396, 282.78571425377396),\n",
       " (2288.8344, 2284.4761913805232),\n",
       " (4928.0656, 4925.753865936072),\n",
       " (3276.8816, 3279.1339328411877),\n",
       " (1660.3192, 1662.749555071403),\n",
       " (2141.6926, 2130.2349784826874),\n",
       " (2138.3636, 2130.2349784826874),\n",
       " (1451.2579999999996, 1450.7581523538386),\n",
       " (2603.092, 2601.1399197427218),\n",
       " (1171.622, 1171.7516641953641),\n",
       " (1135.6688, 1135.3716631253462),\n",
       " (5817.5744, 5821.645667298692),\n",
       " (331.3824, 348.5526672232454),\n",
       " (6148.477, 6137.597026221839),\n",
       " (2935.992, 2934.6875483076083),\n",
       " (1109.0368, 1109.545926789598),\n",
       " (628.3292, 643.9039098469583),\n",
       " (813.4216, 814.3272848866504),\n",
       " (1926.6392, 1920.1223297841518),\n",
       " (765.4839999999998, 757.1917460017404),\n",
       " (1343.3984, 1345.8947110005906),\n",
       " (3109.1, 3108.01856645405),\n",
       " (2987.9244, 2982.913789687894),\n",
       " (1417.9679999999996, 1418.4777033805292),\n",
       " (4617.137, 4625.126155897649),\n",
       " (3069.152, 3068.797922318768),\n",
       " (2809.49, 2810.1134932594246),\n",
       " (2509.88, 2508.437355330858),\n",
       " (2403.3520000000008, 2394.6194239227198),\n",
       " (1191.596, 1188.3274369237351),\n",
       " (1548.4648, 1545.4583937576813),\n",
       " (762.8208, 752.7947208190957),\n",
       " (565.744, 575.440781986684),\n",
       " (1519.1696, 1520.272475831866),\n",
       " (2461.9424, 2465.8717467366946),\n",
       " (1318.098, 1315.101126158173),\n",
       " (3288.866, 3292.7287666293564),\n",
       " (230.8466, 206.2878557684381),\n",
       " (757.4944, 747.221921377052),\n",
       " (358.6802, 352.44878009026075),\n",
       " (1631.024, 1630.1705784746941),\n",
       " (512.48, 503.4250996121272),\n",
       " (1449.2606, 1448.173775716356),\n",
       " (3228.9440000000004, 3220.0839089960673),\n",
       " (3073.1468, 3073.0425864083213),\n",
       " (1910.66, 1908.3643003583836),\n",
       " (3069.152, 3068.797922318768),\n",
       " (447.2316, 435.2005376496466),\n",
       " (3888.086, 3881.415508253389),\n",
       " (728.1992, 730.7820210168454),\n",
       " (2592.4392, 2586.7112404963605),\n",
       " (581.7232, 578.9930883330989),\n",
       " (236.8388, 216.05086163613777),\n",
       " (3029.204, 3029.7083376711994),\n",
       " (2270.192, 2261.9686609260475),\n",
       " (3316.1638, 3316.3501105328974),\n",
       " (2172.9852, 2175.7033512634007),\n",
       " (550.4306, 562.9973713145208),\n",
       " (880.0016, 888.0958589178355),\n",
       " (1497.1982, 1503.4425047019954),\n",
       " (3310.1716, 3314.500429398874),\n",
       " (598.3682, 589.2337075726853),\n",
       " (3818.177, 3822.089788768724),\n",
       " (720.2096, 727.8751373015676),\n",
       " (1950.608, 1951.2900255972058),\n",
       " (1204.2462, 1203.5872846895256),\n",
       " (956.5686, 959.7329704470799),\n",
       " (1864.054, 1861.3452221911505),\n",
       " (397.2966, 406.62514147550405),\n",
       " (2115.0606, 2118.230896626201),\n",
       " (1623.0344, 1626.1623622793556),\n",
       " (1479.2216, 1476.2585591902164),\n",
       " (497.8324, 502.12920367795925),\n",
       " (6466.0636, 6450.106822761494),\n",
       " (2545.8332, 2549.9752414380664),\n",
       " (4961.3556, 4951.59390097411),\n",
       " (4427.384, 4415.998614164499),\n",
       " (5422.755, 5416.282897532476),\n",
       " (264.8024, 282.65399390165095),\n",
       " (1417.9679999999996, 1418.4777033805292),\n",
       " (6121.1792, 6123.389731123478),\n",
       " (2302.8162, 2297.3597298300756),\n",
       " (3743.6074, 3731.138546120373),\n",
       " (796.1108, 805.2706481117226),\n",
       " (1694.9408, 1691.3110507259137),\n",
       " (234.1756, 212.44740287299936),\n",
       " (3117.0896, 3115.159766340315),\n",
       " (1920.647, 1918.6293996696033),\n",
       " (2872.0752, 2868.8419664379026),\n",
       " (1790.1502, 1795.631969889382),\n",
       " (1279.4816, 1274.9168467219774),\n",
       " (4391.4308, 4383.872231202546),\n",
       " (4928.0656, 4925.753865936072),\n",
       " (1149.6506, 1146.2939280230314),\n",
       " (2769.542, 2767.265788320261),\n",
       " (6284.3002, 6294.3686093912875),\n",
       " (2441.9684, 2448.13417534365),\n",
       " (1692.9434, 1689.2115328133655),\n",
       " (1700.2672, 1695.0398213215403),\n",
       " (786.7896, 796.4794812792661),\n",
       " (8175.838000000002, 8191.766503041612),\n",
       " (1497.1982, 1503.4425047019954),\n",
       " (2692.975, 2690.278161096282),\n",
       " (1138.332, 1135.792392545264),\n",
       " (377.9884, 358.06260277799424),\n",
       " (4224.9808, 4223.105224904889),\n",
       " (7693.133000000002, 7733.270520990092),\n",
       " (573.7336, 578.0866694829947),\n",
       " (358.6802, 352.44878009026075),\n",
       " (323.3928, 326.13818608971593),\n",
       " (970.5504, 975.26762429697),\n",
       " (1623.0344, 1626.1623622793556),\n",
       " (2295.4924, 2293.350972760143),\n",
       " (2519.2012, 2515.9747162679328),\n",
       " (1444.6, 1442.3724847846604),\n",
       " (1045.12, 1049.5922756023353),\n",
       " (301.4214, 285.60194587952316),\n",
       " (1031.804, 1029.8216927664864),\n",
       " (3262.234000000001, 3256.2545521762177),\n",
       " (3680.3564, 3681.8977137553607),\n",
       " (2541.8384, 2546.1396848357003),\n",
       " (1267.4972, 1269.2846887184503),\n",
       " (1944.6158, 1946.6325685146955),\n",
       " (589.047, 580.7477136398259),\n",
       " (1605.7236, 1605.1884039581662),\n",
       " (647.6374, 654.4933277877011),\n",
       " (1732.2256, 1726.6259978102628),\n",
       " (1583.0864, 1586.8847745339713),\n",
       " (1459.9134, 1454.1366075205663),\n",
       " (2240.231, 2236.626387602547),\n",
       " (5272.2842, 5284.296581543848),\n",
       " (1431.284, 1432.802759417713),\n",
       " (6421.455, 6416.122548099573),\n",
       " ...]"
      ]
     },
     "execution_count": 68,
     "metadata": {},
     "output_type": "execute_result"
    }
   ],
   "source": [
    "list(zip(Y_test,predicted_rf1))"
   ]
  },
  {
   "cell_type": "code",
   "execution_count": null,
   "metadata": {},
   "outputs": [],
   "source": []
  }
 ],
 "metadata": {
  "kernelspec": {
   "display_name": "Python 3",
   "language": "python",
   "name": "python3"
  },
  "language_info": {
   "codemirror_mode": {
    "name": "ipython",
    "version": 3
   },
   "file_extension": ".py",
   "mimetype": "text/x-python",
   "name": "python",
   "nbconvert_exporter": "python",
   "pygments_lexer": "ipython3",
   "version": "3.6.4"
  }
 },
 "nbformat": 4,
 "nbformat_minor": 2
}
